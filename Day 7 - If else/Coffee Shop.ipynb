{
 "cells": [
  {
   "cell_type": "markdown",
   "id": "972e6994-8a0c-4160-9432-bc204da3dc72",
   "metadata": {},
   "source": [
    "# Problem:"
   ]
  },
  {
   "cell_type": "markdown",
   "id": "319f405f-ca7f-41aa-abd4-3ff8cc4f0af6",
   "metadata": {},
   "source": [
    "## A Coffee shop gives discounts based on the time of day"
   ]
  },
  {
   "cell_type": "code",
   "execution_count": 1,
   "id": "9664c8ae-d311-4518-93ef-fac0507ae560",
   "metadata": {},
   "outputs": [
    {
     "name": "stdout",
     "output_type": "stream",
     "text": [
      "Good morning! You get 20% discount on coffee.\n"
     ]
    }
   ],
   "source": [
    "import time\n",
    "\n",
    "hour = int(time.strftime(\"%H\"))\n",
    "\n",
    "hour = int(input(\"Enter current hour (0-23): \"))\n",
    "\n",
    "if 6 <= hour <=11:\n",
    "    print(\"Good morning! You get 20% discount on coffee.\")\n",
    "elif 12 <= hour <= 16:\n",
    "    print(\"Good afternoon! You get 10% discount on coffee.\")\n",
    "elif 17 <= hour <= 23:\n",
    "    print(\"Good evening! No discount available.\")\n",
    "else:\n",
    "    print(\"Sorry, the coffee shop is closed right now.\")"
   ]
  },
  {
   "cell_type": "code",
   "execution_count": null,
   "id": "03198860",
   "metadata": {},
   "outputs": [],
   "source": []
  }
 ],
 "metadata": {
  "kernelspec": {
   "display_name": "Python 3.8.6 64-bit",
   "language": "python",
   "name": "python3"
  },
  "language_info": {
   "codemirror_mode": {
    "name": "ipython",
    "version": 3
   },
   "file_extension": ".py",
   "mimetype": "text/x-python",
   "name": "python",
   "nbconvert_exporter": "python",
   "pygments_lexer": "ipython3",
   "version": "3.8.6"
  },
  "vscode": {
   "interpreter": {
    "hash": "a4868653bb6f8972e87e4c446ab8a445a15b25dedb8594cc74c480f8152ea86a"
   }
  }
 },
 "nbformat": 4,
 "nbformat_minor": 5
}
