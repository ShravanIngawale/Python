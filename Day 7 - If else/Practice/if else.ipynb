{
 "cells": [
  {
   "cell_type": "markdown",
   "id": "4ffb96e9-a4c6-4edd-afc0-5fe51933c576",
   "metadata": {},
   "source": [
    "# if...else"
   ]
  },
  {
   "cell_type": "markdown",
   "id": "69d0fe27-fa98-424d-b6e7-d22e042413ac",
   "metadata": {},
   "source": [
    "## Practise 1 - Check Even or Odd"
   ]
  },
  {
   "cell_type": "code",
   "execution_count": 1,
   "id": "69077d91-c380-46ef-beed-2068e788a37c",
   "metadata": {},
   "outputs": [
    {
     "name": "stdout",
     "output_type": "stream",
     "text": [
      "Number is odd\n"
     ]
    }
   ],
   "source": [
    "num = int(input(\"Enter a number: \"))\n",
    "if num % 2 == 0:\n",
    "\tprint(\"Number is even\")\n",
    "else:\n",
    "\tprint(\"Number is odd\")"
   ]
  },
  {
   "cell_type": "markdown",
   "id": "4037252d-3e7f-418b-9a79-d6ad2a4a2965",
   "metadata": {},
   "source": [
    "## Practice 2 - Check Positive or Negative"
   ]
  },
  {
   "cell_type": "code",
   "execution_count": 6,
   "id": "bcd53da3-f755-44a1-a9d2-83c324ae55ce",
   "metadata": {},
   "outputs": [
    {
     "name": "stdout",
     "output_type": "stream",
     "text": [
      "Enter a number:  -867\n"
     ]
    },
    {
     "name": "stdout",
     "output_type": "stream",
     "text": [
      "Negative number\n"
     ]
    }
   ],
   "source": [
    "num = int(input(\"Enter a number: \"))\n",
    "if num > 0:\n",
    "\tprint(\"Positive number\")\n",
    "else:\n",
    "\tprint(\"Negative number\")"
   ]
  },
  {
   "cell_type": "markdown",
   "id": "21d5490d-b800-44cb-a507-3944dc811db9",
   "metadata": {},
   "source": [
    "## Practice 3 - Age Eligibility"
   ]
  },
  {
   "cell_type": "code",
   "execution_count": 29,
   "id": "1d9d1f4b-3634-4956-b938-1f95ffa8c3e4",
   "metadata": {},
   "outputs": [
    {
     "name": "stdout",
     "output_type": "stream",
     "text": [
      "Enter your age:  20\n"
     ]
    },
    {
     "name": "stdout",
     "output_type": "stream",
     "text": [
      "You are eligible to vote\n"
     ]
    }
   ],
   "source": [
    "age = int(input(\"Enter your age: \"))\n",
    "\n",
    "if age >= 18:\n",
    "    print(\"You are eligible to vote\")\n",
    "else:\n",
    "    print(\"You are not eligible to vote\")"
   ]
  },
  {
   "cell_type": "markdown",
   "id": "659685ed-3e51-4757-bdda-5f91e67ed898",
   "metadata": {},
   "source": [
    "## Practice 4 - Password Match"
   ]
  },
  {
   "cell_type": "code",
   "execution_count": 7,
   "id": "f067bbc5-a849-4c57-af59-2433042ecab6",
   "metadata": {},
   "outputs": [
    {
     "name": "stdout",
     "output_type": "stream",
     "text": [
      "Enter password:  1234\n",
      "Confirm password:  1234\n"
     ]
    },
    {
     "name": "stdout",
     "output_type": "stream",
     "text": [
      "Password match\n"
     ]
    }
   ],
   "source": [
    "password = input(\"Enter password: \")\n",
    "confirm = input(\"Confirm password: \")\n",
    "\n",
    "if password == confirm:\n",
    "    print(\"Password match\")\n",
    "else:\n",
    "    print(\"Password did not match\")"
   ]
  },
  {
   "cell_type": "markdown",
   "id": "8c9d3c59-ee00-4a3b-a741-fea8df0e3cbc",
   "metadata": {},
   "source": [
    "## Practice 5 - Greatest of Two Numbers"
   ]
  },
  {
   "cell_type": "code",
   "execution_count": 6,
   "id": "baf89efc-424c-4e59-b56c-0b22418f0d9e",
   "metadata": {},
   "outputs": [
    {
     "name": "stdout",
     "output_type": "stream",
     "text": [
      "Enter first number:  13\n",
      "Enter second number:  7\n"
     ]
    },
    {
     "name": "stdout",
     "output_type": "stream",
     "text": [
      "First number is greater\n"
     ]
    }
   ],
   "source": [
    "a = int(input(\"Enter first number: \"))\n",
    "b = int(input(\"Enter second number: \"))\n",
    "\n",
    "if a > b:\n",
    "    print(\"First number is greater\")\n",
    "else:\n",
    "    print(\"Second number is greater\")"
   ]
  },
  {
   "cell_type": "markdown",
   "id": "b9449e8e-5669-4fd2-88e0-6d6e983764fb",
   "metadata": {},
   "source": [
    "# if...elif...else"
   ]
  },
  {
   "cell_type": "markdown",
   "id": "b1541300-2bcb-4fde-92d7-8d8828e095f6",
   "metadata": {},
   "source": [
    "## Practice 1 - Number Sign Check"
   ]
  },
  {
   "cell_type": "code",
   "execution_count": 8,
   "id": "8f3890cc-a3c5-4a36-a70e-88574e247d0d",
   "metadata": {},
   "outputs": [
    {
     "name": "stdout",
     "output_type": "stream",
     "text": [
      "Enter a number:  0\n"
     ]
    },
    {
     "name": "stdout",
     "output_type": "stream",
     "text": [
      "Zero\n"
     ]
    }
   ],
   "source": [
    "num = int(input(\"Enter a number: \"))\n",
    "\n",
    "if num > 0:\n",
    "    print(\"Positive\")\n",
    "elif num == 0:\n",
    "    print(\"Zero\")\n",
    "else:\n",
    "    print(\"Negative\")"
   ]
  },
  {
   "cell_type": "markdown",
   "id": "69ea10ff-81fc-4eb8-b487-e5eef915716f",
   "metadata": {},
   "source": [
    "## Practice 2 - Grade System"
   ]
  },
  {
   "cell_type": "code",
   "execution_count": 17,
   "id": "19ecc64f-13e3-453d-95c4-c850cac543c7",
   "metadata": {},
   "outputs": [
    {
     "name": "stdout",
     "output_type": "stream",
     "text": [
      "Enter your marks:  70\n"
     ]
    },
    {
     "name": "stdout",
     "output_type": "stream",
     "text": [
      "Grade C\n"
     ]
    }
   ],
   "source": [
    "marks = int(input(\"Enter your marks: \"))\n",
    "\n",
    "if marks >= 90:\n",
    "    print(\"Grade A\")\n",
    "elif marks >= 75:\n",
    "    print(\"Grade B\")\n",
    "elif marks >= 50:\n",
    "    print(\"Grade C\")\n",
    "else:\n",
    "    print(\"Fail\")"
   ]
  },
  {
   "cell_type": "markdown",
   "id": "4c106576-31ac-4362-a111-c08292dc5dc5",
   "metadata": {},
   "source": [
    "## Practice 3 - Day of the Week"
   ]
  },
  {
   "cell_type": "code",
   "execution_count": 27,
   "id": "ca753bb0-db48-445c-b9ca-fdc4fa09a040",
   "metadata": {},
   "outputs": [
    {
     "name": "stdout",
     "output_type": "stream",
     "text": [
      "Enter day number (1-7):  2\n"
     ]
    },
    {
     "name": "stdout",
     "output_type": "stream",
     "text": [
      "Tuesday\n"
     ]
    }
   ],
   "source": [
    "day = int(input(\"Enter day number (1-7): \"))\n",
    "\n",
    "if day == 1:\n",
    "    print(\"Monday\")\n",
    "elif day == 2:\n",
    "    print(\"Tuesday\")\n",
    "elif day == 3:\n",
    "    print(\"Wednesday\")\n",
    "elif day == 4:\n",
    "    print(\"Thursday\")\n",
    "elif day == 5:\n",
    "    print(\"Friday\")\n",
    "elif day == 6:\n",
    "    print(\"Saturday\")\n",
    "elif day == 7:\n",
    "    print(\"Sunday\")\n",
    "else:\n",
    "    print(\"Invalid day number\")"
   ]
  },
  {
   "cell_type": "markdown",
   "id": "5051b146-ceb3-4259-ac79-d349339d72b4",
   "metadata": {},
   "source": [
    "## Practice 4 - Temperature Check"
   ]
  },
  {
   "cell_type": "code",
   "execution_count": 35,
   "id": "ccb54a2f-4b1e-44f6-b0b1-dbfa59c98967",
   "metadata": {},
   "outputs": [
    {
     "name": "stdout",
     "output_type": "stream",
     "text": [
      "Enter temperature in °C:  20\n"
     ]
    },
    {
     "name": "stdout",
     "output_type": "stream",
     "text": [
      "Warm Day\n"
     ]
    }
   ],
   "source": [
    "temp = int(input(\"Enter temperature in °C: \"))\n",
    "\n",
    "if temp >= 30:\n",
    "    print(\"Hot Day\")\n",
    "elif temp >= 20:\n",
    "    print(\"Warm Day\")\n",
    "elif temp >= 10:\n",
    "    print(\"Cool Day\")\n",
    "else:\n",
    "    print(\"Cold Day\")"
   ]
  },
  {
   "cell_type": "markdown",
   "id": "d5f1ca87-6411-4442-b38e-7c15614c3bc9",
   "metadata": {},
   "source": [
    "## Practice 5 - Traffic Light"
   ]
  },
  {
   "cell_type": "code",
   "execution_count": 41,
   "id": "e9b6947b-5005-4202-afb9-cb98a4b083cd",
   "metadata": {},
   "outputs": [
    {
     "name": "stdout",
     "output_type": "stream",
     "text": [
      "Enter traffic light color:  Yellow\n"
     ]
    },
    {
     "name": "stdout",
     "output_type": "stream",
     "text": [
      "Slow down\n"
     ]
    }
   ],
   "source": [
    "light = input(\"Enter traffic light color: \").lower()\n",
    "\n",
    "if light == \"red\":\n",
    "    print(\"Stop\")\n",
    "elif light == \"yellow\":\n",
    "    print(\"Slow down\")\n",
    "elif light == \"green\":\n",
    "    print(\"Go\")\n",
    "else:\n",
    "    print(\"Invalid color\")"
   ]
  },
  {
   "cell_type": "markdown",
   "id": "1103ee94-21c5-4c72-bb53-458a024d94d0",
   "metadata": {},
   "source": [
    "# Nested if...else"
   ]
  },
  {
   "cell_type": "markdown",
   "id": "65fbd915-f391-484e-a1d0-43d1ba31cb4a",
   "metadata": {},
   "source": [
    "## Practice 1 - Password Check"
   ]
  },
  {
   "cell_type": "code",
   "execution_count": 3,
   "id": "7d453e99-8a52-4f09-bb42-b6c599a7ef90",
   "metadata": {},
   "outputs": [
    {
     "name": "stdout",
     "output_type": "stream",
     "text": [
      "Wrong password\n"
     ]
    }
   ],
   "source": [
    "username = input(\"Enter username: \")\n",
    "\n",
    "if username == \"admin\":\n",
    "    password = input(\"Enter password: \")\n",
    "    if password == \"1234\":\n",
    "        print(\"Login Successful\")\n",
    "    else:\n",
    "        print(\"Wrong password\")\n",
    "else:\n",
    "    print(\"Username not found\")"
   ]
  },
  {
   "cell_type": "markdown",
   "id": "b8ba105e-94a1-479e-898f-e4527cd41eed",
   "metadata": {},
   "source": [
    "## Practice 2 - Driving License"
   ]
  },
  {
   "cell_type": "code",
   "execution_count": 9,
   "id": "4fff1a48-7a81-4a57-80d0-014d703a8755",
   "metadata": {},
   "outputs": [
    {
     "name": "stdout",
     "output_type": "stream",
     "text": [
      "Enter your age:  25\n",
      "Did you pass the driving test? (yes/no):  yes\n"
     ]
    },
    {
     "name": "stdout",
     "output_type": "stream",
     "text": [
      "You can get a driving license\n"
     ]
    }
   ],
   "source": [
    "age = int(input(\"Enter your age: \"))\n",
    "\n",
    "if age >= 18:\n",
    "    test = input(\"Did you pass the driving test? (yes/no): \").lower()\n",
    "    if test == \"yes\":\n",
    "        print(\"You can get a driving license\")\n",
    "    else:\n",
    "        print(\"You must pass the test first\")\n",
    "else:\n",
    "    print(\"You are too young to get a driving license\")"
   ]
  },
  {
   "cell_type": "markdown",
   "id": "851c2c6b-1ccb-4fd4-bd1c-a8455476a951",
   "metadata": {},
   "source": [
    "## Practice 3 - Even/Odd Positive/Negative"
   ]
  },
  {
   "cell_type": "code",
   "execution_count": 17,
   "id": "f2ee1c58-208f-47b3-9190-eeaa31444753",
   "metadata": {},
   "outputs": [
    {
     "name": "stdout",
     "output_type": "stream",
     "text": [
      "Enter a number:  -87\n"
     ]
    },
    {
     "name": "stdout",
     "output_type": "stream",
     "text": [
      "Negative Odd\n"
     ]
    }
   ],
   "source": [
    "num = int(input(\"Enter a number: \"))\n",
    "\n",
    "if num >= 0:\n",
    "    if num % 2 == 0:\n",
    "        print(\"Positive Even\")\n",
    "    else:\n",
    "        print(\"Positive Odd\")\n",
    "else:\n",
    "    if num % 2 == 0:\n",
    "        print(\"Negative Even\")\n",
    "    else:\n",
    "        print(\"Negative Odd\")"
   ]
  },
  {
   "cell_type": "markdown",
   "id": "b19fc5d6-fefd-4f19-8724-a82c809b3af4",
   "metadata": {},
   "source": [
    "## Practice 4 - Movie Ticket Pricing"
   ]
  },
  {
   "cell_type": "code",
   "execution_count": 24,
   "id": "c39b8198-78a1-48f5-94be-6087d55e774b",
   "metadata": {},
   "outputs": [
    {
     "name": "stdout",
     "output_type": "stream",
     "text": [
      "Enter your age:  67\n"
     ]
    },
    {
     "name": "stdout",
     "output_type": "stream",
     "text": [
      "Ticket Price: ₹60\n"
     ]
    }
   ],
   "source": [
    "age = int(input(\"Enter your age: \"))\n",
    "\n",
    "if age < 5:\n",
    "    print(\"Free ticket\")\n",
    "elif age <= 12:\n",
    "    if age <= 8:\n",
    "        print(\"Ticket Price: ₹50\")\n",
    "    else:\n",
    "        print(\"Ticket Price: ₹70\")\n",
    "elif age <= 60:\n",
    "    if age <= 30:\n",
    "        print(\"Ticket Price: ₹100\")\n",
    "    elif age <= 50:\n",
    "        print(\"Ticket Price: ₹120\")\n",
    "    else:\n",
    "        print(\"Ticket Price: ₹90\")\n",
    "else:\n",
    "    print(\"Ticket Price: ₹60\")"
   ]
  },
  {
   "cell_type": "markdown",
   "id": "80ab3bdf-908c-49df-9c27-8086486219df",
   "metadata": {},
   "source": [
    "## Practice 5 - Mobile Data Plan"
   ]
  },
  {
   "cell_type": "code",
   "execution_count": 33,
   "id": "f74790d3-8bd1-47a6-aa42-3054d2b40015",
   "metadata": {},
   "outputs": [
    {
     "name": "stdout",
     "output_type": "stream",
     "text": [
      "Enter plan type (basic/standard/premium):  premium\n"
     ]
    },
    {
     "name": "stdout",
     "output_type": "stream",
     "text": [
      "You already have the best plan\n"
     ]
    }
   ],
   "source": [
    "plan = input(\"Enter plan type (basic/standard/premium): \").lower()\n",
    "\n",
    "if plan == \"basic\":\n",
    "    speed = int(input(\"Enter your current speed (Mbps): \"))\n",
    "    if speed < 5:\n",
    "        print(\"Upgrade to standard for better speed\")\n",
    "    elif speed < 10:\n",
    "        print(\"You are getting decent speed\")\n",
    "    else:\n",
    "        print(\"Excellent speed for a basic paln\")\n",
    "elif plan == \"standard\":\n",
    "    speed = int(input(\"Enter your current speed (Mbps): \"))\n",
    "    if speed < 15:\n",
    "        print(\"Upgrade to premium for better speed\")\n",
    "    elif speed < 20:\n",
    "        print(\"You are getting good speed\")\n",
    "    else:\n",
    "        print(\"Excellent speed for a standard plan\")\n",
    "elif plan == \"premium\":\n",
    "    print(\"You already have the best plan\")\n",
    "else:\n",
    "    print(\"Invalid plan entered\")"
   ]
  },
  {
   "cell_type": "code",
   "execution_count": null,
   "id": "8279a2a4-e22b-44e4-acd4-108339992d93",
   "metadata": {},
   "outputs": [],
   "source": []
  }
 ],
 "metadata": {
  "kernelspec": {
   "display_name": "Python 3.8.6 64-bit",
   "language": "python",
   "name": "python3"
  },
  "language_info": {
   "codemirror_mode": {
    "name": "ipython",
    "version": 3
   },
   "file_extension": ".py",
   "mimetype": "text/x-python",
   "name": "python",
   "nbconvert_exporter": "python",
   "pygments_lexer": "ipython3",
   "version": "3.8.6"
  },
  "vscode": {
   "interpreter": {
    "hash": "a4868653bb6f8972e87e4c446ab8a445a15b25dedb8594cc74c480f8152ea86a"
   }
  }
 },
 "nbformat": 4,
 "nbformat_minor": 5
}
