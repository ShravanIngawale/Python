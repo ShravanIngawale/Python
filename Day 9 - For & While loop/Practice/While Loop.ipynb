{
 "cells": [
  {
   "cell_type": "markdown",
   "id": "b839e202-a5b1-4a6f-b6c6-c693dc1e68a6",
   "metadata": {},
   "source": [
    "# 1. Print numbers from 1 to 5"
   ]
  },
  {
   "cell_type": "code",
   "execution_count": 1,
   "id": "46238355-75d2-4644-bc07-0b0d46094783",
   "metadata": {},
   "outputs": [
    {
     "name": "stdout",
     "output_type": "stream",
     "text": [
      "1\n",
      "2\n",
      "3\n",
      "4\n",
      "5\n"
     ]
    }
   ],
   "source": [
    "i = 1\n",
    "while i <= 5:\n",
    "    print(i)\n",
    "    i = i + 1"
   ]
  },
  {
   "cell_type": "markdown",
   "id": "c88e133f-b31e-4d0c-88f6-0171a7601a02",
   "metadata": {},
   "source": [
    "# 2. Print even numbers up to 10"
   ]
  },
  {
   "cell_type": "code",
   "execution_count": 4,
   "id": "f862ff59-73b1-4af9-84fc-6fc5df614680",
   "metadata": {},
   "outputs": [
    {
     "name": "stdout",
     "output_type": "stream",
     "text": [
      "0\n",
      "2\n",
      "4\n",
      "6\n",
      "8\n",
      "10\n"
     ]
    }
   ],
   "source": [
    "i = 0\n",
    "while i <= 10:\n",
    "    print(i)\n",
    "    i = i + 2"
   ]
  },
  {
   "cell_type": "markdown",
   "id": "c17bf720-5e95-4624-a855-a4248357150c",
   "metadata": {},
   "source": [
    "# 3. Print table of a number"
   ]
  },
  {
   "cell_type": "code",
   "execution_count": 6,
   "id": "4ec85b91-44a1-47d5-a4e1-e7811a74f941",
   "metadata": {},
   "outputs": [
    {
     "name": "stdout",
     "output_type": "stream",
     "text": [
      "4 x 1 = 4\n",
      "4 x 2 = 8\n",
      "4 x 3 = 12\n",
      "4 x 4 = 16\n",
      "4 x 5 = 20\n",
      "4 x 6 = 24\n",
      "4 x 7 = 28\n",
      "4 x 8 = 32\n",
      "4 x 9 = 36\n",
      "4 x 10 = 40\n"
     ]
    }
   ],
   "source": [
    "i = 1\n",
    "while i <= 10:\n",
    "    print(\"4 x\", i, \"=\", 4 * i)\n",
    "    i = i + 1"
   ]
  },
  {
   "cell_type": "markdown",
   "id": "051edf0e-f3c2-4dc4-b5d8-70513a1c9e1c",
   "metadata": {},
   "source": [
    "# 4. Sum of numbers from 1 to 5"
   ]
  },
  {
   "cell_type": "code",
   "execution_count": 9,
   "id": "ddef0059-dbff-4f75-afc5-18921c2fc42c",
   "metadata": {},
   "outputs": [
    {
     "name": "stdout",
     "output_type": "stream",
     "text": [
      "Sum = 15\n"
     ]
    }
   ],
   "source": [
    "i = 1\n",
    "sum = 0\n",
    "while i <= 5:\n",
    "    sum = sum + i\n",
    "    i = i + 1\n",
    "\n",
    "print(\"Sum =\",sum)"
   ]
  }
 ],
 "metadata": {
  "kernelspec": {
   "display_name": "Python 3.8.6 64-bit",
   "language": "python",
   "name": "python3"
  },
  "language_info": {
   "codemirror_mode": {
    "name": "ipython",
    "version": 3
   },
   "file_extension": ".py",
   "mimetype": "text/x-python",
   "name": "python",
   "nbconvert_exporter": "python",
   "pygments_lexer": "ipython3",
   "version": "3.8.6"
  },
  "vscode": {
   "interpreter": {
    "hash": "a4868653bb6f8972e87e4c446ab8a445a15b25dedb8594cc74c480f8152ea86a"
   }
  }
 },
 "nbformat": 4,
 "nbformat_minor": 5
}
