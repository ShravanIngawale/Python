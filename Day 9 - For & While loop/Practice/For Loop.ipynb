{
 "cells": [
  {
   "cell_type": "markdown",
   "id": "6a30e2fe-c0de-4614-bbd2-8bb832370037",
   "metadata": {},
   "source": [
    "# Practice"
   ]
  },
  {
   "cell_type": "markdown",
   "id": "d346417e-608f-4cf8-9cbe-a880cc97ff22",
   "metadata": {},
   "source": [
    "## 1. Print numbers 1 to 10"
   ]
  },
  {
   "cell_type": "code",
   "execution_count": 1,
   "id": "646d912a-51cc-43f8-ab2d-c1c521a1887a",
   "metadata": {},
   "outputs": [
    {
     "name": "stdout",
     "output_type": "stream",
     "text": [
      "1\n",
      "2\n",
      "3\n",
      "4\n",
      "5\n",
      "6\n",
      "7\n",
      "8\n",
      "9\n",
      "10\n"
     ]
    }
   ],
   "source": [
    "for i in range(1, 11):\n",
    "    print(i)"
   ]
  },
  {
   "cell_type": "markdown",
   "id": "b11d3672-53b5-426f-8c44-3416684fdce5",
   "metadata": {},
   "source": [
    "## 2. Print even numbers from 2 to 20"
   ]
  },
  {
   "cell_type": "code",
   "execution_count": 3,
   "id": "bcc459b5-1869-4c8e-97d4-19e094466930",
   "metadata": {},
   "outputs": [
    {
     "name": "stdout",
     "output_type": "stream",
     "text": [
      "2\n",
      "4\n",
      "6\n",
      "8\n",
      "10\n",
      "12\n",
      "14\n",
      "16\n",
      "18\n",
      "20\n"
     ]
    }
   ],
   "source": [
    "for i in range(2, 21, 2):\n",
    "    print(i)"
   ]
  },
  {
   "cell_type": "markdown",
   "id": "38768f72-bbdd-47d5-9a73-4f94fde99aa6",
   "metadata": {},
   "source": [
    "## 3. Print multiplication table of 5"
   ]
  },
  {
   "cell_type": "code",
   "execution_count": 4,
   "id": "1f301559-8f2c-4286-a31d-7b8fa4526c61",
   "metadata": {},
   "outputs": [
    {
     "name": "stdout",
     "output_type": "stream",
     "text": [
      "5 x 1 = 5\n",
      "5 x 2 = 10\n",
      "5 x 3 = 15\n",
      "5 x 4 = 20\n",
      "5 x 5 = 25\n",
      "5 x 6 = 30\n",
      "5 x 7 = 35\n",
      "5 x 8 = 40\n",
      "5 x 9 = 45\n",
      "5 x 10 = 50\n"
     ]
    }
   ],
   "source": [
    "for n in range(1, 11):\n",
    "    print(\"5 x\", n, \"=\", 5 * n)"
   ]
  },
  {
   "cell_type": "markdown",
   "id": "e682a433-88af-4f2f-9bee-58d3284801ea",
   "metadata": {},
   "source": [
    "## 4. Print each character of a word"
   ]
  },
  {
   "cell_type": "code",
   "execution_count": 5,
   "id": "56ba914e-d3f9-4488-a10b-819f605ac4d2",
   "metadata": {},
   "outputs": [
    {
     "name": "stdout",
     "output_type": "stream",
     "text": [
      "P\n",
      "y\n",
      "t\n",
      "h\n",
      "o\n",
      "n\n"
     ]
    }
   ],
   "source": [
    "word = \"Python\"\n",
    "\n",
    "for i in word:\n",
    "    print(i)"
   ]
  },
  {
   "cell_type": "markdown",
   "id": "94ebadc7-808e-4292-8e64-1b8f280377c2",
   "metadata": {},
   "source": [
    "## 5. Sum of numbers from 1 to 100"
   ]
  },
  {
   "cell_type": "code",
   "execution_count": 6,
   "id": "6ba8819f-f569-4ded-b9aa-6b3a596fa0d6",
   "metadata": {},
   "outputs": [
    {
     "name": "stdout",
     "output_type": "stream",
     "text": [
      "Sum =  1\n",
      "Sum =  3\n",
      "Sum =  6\n",
      "Sum =  10\n",
      "Sum =  15\n",
      "Sum =  21\n",
      "Sum =  28\n",
      "Sum =  36\n",
      "Sum =  45\n",
      "Sum =  55\n",
      "Sum =  66\n",
      "Sum =  78\n",
      "Sum =  91\n",
      "Sum =  105\n",
      "Sum =  120\n",
      "Sum =  136\n",
      "Sum =  153\n",
      "Sum =  171\n",
      "Sum =  190\n",
      "Sum =  210\n",
      "Sum =  231\n",
      "Sum =  253\n",
      "Sum =  276\n",
      "Sum =  300\n",
      "Sum =  325\n",
      "Sum =  351\n",
      "Sum =  378\n",
      "Sum =  406\n",
      "Sum =  435\n",
      "Sum =  465\n",
      "Sum =  496\n",
      "Sum =  528\n",
      "Sum =  561\n",
      "Sum =  595\n",
      "Sum =  630\n",
      "Sum =  666\n",
      "Sum =  703\n",
      "Sum =  741\n",
      "Sum =  780\n",
      "Sum =  820\n",
      "Sum =  861\n",
      "Sum =  903\n",
      "Sum =  946\n",
      "Sum =  990\n",
      "Sum =  1035\n",
      "Sum =  1081\n",
      "Sum =  1128\n",
      "Sum =  1176\n",
      "Sum =  1225\n",
      "Sum =  1275\n",
      "Sum =  1326\n",
      "Sum =  1378\n",
      "Sum =  1431\n",
      "Sum =  1485\n",
      "Sum =  1540\n",
      "Sum =  1596\n",
      "Sum =  1653\n",
      "Sum =  1711\n",
      "Sum =  1770\n",
      "Sum =  1830\n",
      "Sum =  1891\n",
      "Sum =  1953\n",
      "Sum =  2016\n",
      "Sum =  2080\n",
      "Sum =  2145\n",
      "Sum =  2211\n",
      "Sum =  2278\n",
      "Sum =  2346\n",
      "Sum =  2415\n",
      "Sum =  2485\n",
      "Sum =  2556\n",
      "Sum =  2628\n",
      "Sum =  2701\n",
      "Sum =  2775\n",
      "Sum =  2850\n",
      "Sum =  2926\n",
      "Sum =  3003\n",
      "Sum =  3081\n",
      "Sum =  3160\n",
      "Sum =  3240\n",
      "Sum =  3321\n",
      "Sum =  3403\n",
      "Sum =  3486\n",
      "Sum =  3570\n",
      "Sum =  3655\n",
      "Sum =  3741\n",
      "Sum =  3828\n",
      "Sum =  3916\n",
      "Sum =  4005\n",
      "Sum =  4095\n",
      "Sum =  4186\n",
      "Sum =  4278\n",
      "Sum =  4371\n",
      "Sum =  4465\n",
      "Sum =  4560\n",
      "Sum =  4656\n",
      "Sum =  4753\n",
      "Sum =  4851\n",
      "Sum =  4950\n",
      "Sum =  5050\n"
     ]
    }
   ],
   "source": [
    "total = 0\n",
    "\n",
    "for i in range(1, 101):\n",
    "    total = total + i\n",
    "    print(\"Sum = \", total)"
   ]
  }
 ],
 "metadata": {
  "kernelspec": {
   "display_name": "Python 3 (ipykernel)",
   "language": "python",
   "name": "python3"
  },
  "language_info": {
   "codemirror_mode": {
    "name": "ipython",
    "version": 3
   },
   "file_extension": ".py",
   "mimetype": "text/x-python",
   "name": "python",
   "nbconvert_exporter": "python",
   "pygments_lexer": "ipython3",
   "version": "3.13.2"
  }
 },
 "nbformat": 4,
 "nbformat_minor": 5
}
