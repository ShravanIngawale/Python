{
 "cells": [
  {
   "cell_type": "markdown",
   "id": "685c992b-e856-4791-a801-0b19179a884b",
   "metadata": {},
   "source": [
    "# Problem: Petrol Pump Total Cost"
   ]
  },
  {
   "cell_type": "markdown",
   "id": "50759bb3-9520-4ebd-835d-346ca7247a48",
   "metadata": {},
   "source": [
    "## A petrol pump wants to calculate the total cost for multiple vehicles"
   ]
  },
  {
   "cell_type": "code",
   "execution_count": 2,
   "id": "a5c18fb5-f85f-4945-928c-3ded5651ab58",
   "metadata": {},
   "outputs": [
    {
     "name": "stdout",
     "output_type": "stream",
     "text": [
      "\n",
      "\n",
      "Total Liters Filled: 23\n",
      "\n",
      "Total Cost = ₹ 2300\n"
     ]
    }
   ],
   "source": [
    "price_per_liter = 100\n",
    "total_liters = 0\n",
    "total_cost = 0\n",
    "\n",
    "vehicles = int(input(\"How many vehicles came? \"))\n",
    "print()\n",
    "\n",
    "for i in range(1, vehicles + 1):\n",
    "    liters = int(input(\"Enter liters filled for vehicles \" + str(i) + \": \"))\n",
    "    total_liters = total_liters + liters\n",
    "    total_cost = total_cost + (liters * price_per_liter)\n",
    "\n",
    "print(\"\\nTotal Liters Filled:\", total_liters)\n",
    "print(\"\\nTotal Cost = ₹\", total_cost)"
   ]
  },
  {
   "cell_type": "code",
   "execution_count": null,
   "id": "4ac3f832",
   "metadata": {},
   "outputs": [],
   "source": []
  }
 ],
 "metadata": {
  "kernelspec": {
   "display_name": "Python 3.8.6 64-bit",
   "language": "python",
   "name": "python3"
  },
  "language_info": {
   "codemirror_mode": {
    "name": "ipython",
    "version": 3
   },
   "file_extension": ".py",
   "mimetype": "text/x-python",
   "name": "python",
   "nbconvert_exporter": "python",
   "pygments_lexer": "ipython3",
   "version": "3.8.6"
  },
  "vscode": {
   "interpreter": {
    "hash": "a4868653bb6f8972e87e4c446ab8a445a15b25dedb8594cc74c480f8152ea86a"
   }
  }
 },
 "nbformat": 4,
 "nbformat_minor": 5
}
