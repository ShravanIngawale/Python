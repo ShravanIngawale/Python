{
 "cells": [
  {
   "cell_type": "markdown",
   "metadata": {},
   "source": [
    "# Required Arguments"
   ]
  },
  {
   "cell_type": "code",
   "execution_count": 5,
   "metadata": {},
   "outputs": [
    {
     "name": "stdout",
     "output_type": "stream",
     "text": [
      "4.235294117647059\n",
      "First number is greater\n",
      "7.228915662650603\n",
      "Second number is greater or equal\n"
     ]
    }
   ],
   "source": [
    "def geometric_mean(a, b):\n",
    "    mean = (a * b) / (a + b)\n",
    "    print(mean)\n",
    "\n",
    "def is_greater(a, b):\n",
    "    if(a > b):\n",
    "        print(\"First number is greater\")\n",
    "    else:\n",
    "        print(\"Second number is greater or equal\")\n",
    "\n",
    "def is_lesser(a, b):\n",
    "    pass\n",
    "\n",
    "a = 9\n",
    "b = 8\n",
    "\n",
    "geometric_mean(a, b)\n",
    "is_greater(a, b)\n",
    "\n",
    "c = 8\n",
    "d = 75\n",
    "\n",
    "geometric_mean(c, d)\n",
    "is_greater(c, d)"
   ]
  },
  {
   "cell_type": "markdown",
   "metadata": {},
   "source": [
    "# Default Arguments"
   ]
  },
  {
   "cell_type": "code",
   "execution_count": 9,
   "metadata": {},
   "outputs": [
    {
     "name": "stdout",
     "output_type": "stream",
     "text": [
      "The average is 11.0\n"
     ]
    }
   ],
   "source": [
    "def average(a = 9, b = 1):\n",
    "    print(\"The average is\", (a + b) / 2)\n",
    "\n",
    "# average()\n",
    "# average(5, 7)\n",
    "# average(5)\n",
    "average(b = 13)"
   ]
  },
  {
   "cell_type": "markdown",
   "metadata": {},
   "source": [
    "# Keyword Arguments"
   ]
  },
  {
   "cell_type": "code",
   "execution_count": 12,
   "metadata": {},
   "outputs": [
    {
     "name": "stdout",
     "output_type": "stream",
     "text": [
      "raj rajesh kumar\n"
     ]
    }
   ],
   "source": [
    "def name(fname, mname, lname):\n",
    "    print(fname, mname, lname)\n",
    "\n",
    "name(lname = \"kumar\", fname = \"raj\", mname = \"rajesh\")"
   ]
  },
  {
   "cell_type": "markdown",
   "metadata": {},
   "source": [
    "# Variable length Arguments"
   ]
  },
  {
   "cell_type": "code",
   "execution_count": 16,
   "metadata": {},
   "outputs": [
    {
     "data": {
      "text/plain": [
       "4.75"
      ]
     },
     "execution_count": 16,
     "metadata": {},
     "output_type": "execute_result"
    }
   ],
   "source": [
    "def average(*numbers):\n",
    "    sum = 0\n",
    "    for i in numbers:\n",
    "        sum += i\n",
    "    # print(\"Average is\", sum / len(numbers))\n",
    "    return sum / len(numbers)\n",
    "\n",
    "average(5, 6, 7, 1)"
   ]
  },
  {
   "cell_type": "code",
   "execution_count": null,
   "metadata": {},
   "outputs": [],
   "source": []
  }
 ],
 "metadata": {
  "kernelspec": {
   "display_name": "Python 3.8.6 64-bit",
   "language": "python",
   "name": "python3"
  },
  "language_info": {
   "codemirror_mode": {
    "name": "ipython",
    "version": 3
   },
   "file_extension": ".py",
   "mimetype": "text/x-python",
   "name": "python",
   "nbconvert_exporter": "python",
   "pygments_lexer": "ipython3",
   "version": "3.8.6"
  },
  "orig_nbformat": 4,
  "vscode": {
   "interpreter": {
    "hash": "a4868653bb6f8972e87e4c446ab8a445a15b25dedb8594cc74c480f8152ea86a"
   }
  }
 },
 "nbformat": 4,
 "nbformat_minor": 2
}
