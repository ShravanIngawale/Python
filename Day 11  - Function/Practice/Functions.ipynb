{
 "cells": [
  {
   "cell_type": "markdown",
   "metadata": {},
   "source": [
    "# 1. Even or Odd Checker"
   ]
  },
  {
   "cell_type": "code",
   "execution_count": 3,
   "metadata": {},
   "outputs": [
    {
     "name": "stdout",
     "output_type": "stream",
     "text": [
      "1 is Odd\n",
      "2 is Even\n",
      "3 is Odd\n",
      "4 is Even\n",
      "5 is Odd\n"
     ]
    }
   ],
   "source": [
    "def check_even_odd(num):\n",
    "    if num % 2 == 0:\n",
    "        print(num, \"is Even\")\n",
    "    else:\n",
    "        print(num, \"is Odd\")\n",
    "\n",
    "for i in range(1, 6):\n",
    "    check_even_odd(i)"
   ]
  },
  {
   "cell_type": "markdown",
   "metadata": {},
   "source": [
    "# 2. Grade Calculator"
   ]
  },
  {
   "cell_type": "code",
   "execution_count": 8,
   "metadata": {},
   "outputs": [
    {
     "name": "stdout",
     "output_type": "stream",
     "text": [
      "Grade: C\n",
      "Grade: A\n",
      "Grade: D\n",
      "Grade: B\n",
      "Fail\n"
     ]
    }
   ],
   "source": [
    "def grade(marks):\n",
    "    if marks >= 90:\n",
    "        print(\"Grade: A\")\n",
    "    elif marks >= 75:\n",
    "        print(\"Grade: B\")\n",
    "    elif marks >= 50:\n",
    "        print(\"Grade: C\")\n",
    "    elif marks >= 35:\n",
    "        print(\"Grade: D\")\n",
    "    else:\n",
    "        print(\"Fail\")\n",
    "\n",
    "grade(73)\n",
    "grade(95)\n",
    "grade(49)\n",
    "grade(80)\n",
    "grade(34)"
   ]
  },
  {
   "cell_type": "markdown",
   "metadata": {},
   "source": [
    "# 3. Multiplication Table Generator"
   ]
  },
  {
   "cell_type": "code",
   "execution_count": 11,
   "metadata": {},
   "outputs": [
    {
     "name": "stdout",
     "output_type": "stream",
     "text": [
      "13 X 1 = 13\n",
      "13 X 2 = 26\n",
      "13 X 3 = 39\n",
      "13 X 4 = 52\n",
      "13 X 5 = 65\n",
      "13 X 6 = 78\n",
      "13 X 7 = 91\n",
      "13 X 8 = 104\n",
      "13 X 9 = 117\n",
      "13 X 10 = 130\n"
     ]
    }
   ],
   "source": [
    "def multiplication_table(num):\n",
    "    for i in range(1, 11):\n",
    "        print(num, \"X\", i, \"=\", num * i)\n",
    "\n",
    "multiplication_table(13)"
   ]
  },
  {
   "cell_type": "markdown",
   "metadata": {},
   "source": [
    "# 4. Count Vowels in a Word"
   ]
  },
  {
   "cell_type": "code",
   "execution_count": 3,
   "metadata": {},
   "outputs": [
    {
     "name": "stdout",
     "output_type": "stream",
     "text": [
      "Number of vowels: 5\n"
     ]
    }
   ],
   "source": [
    "def count_vowels(word):\n",
    "    vowels = \"aeiouAEIOU\"\n",
    "    count = 0\n",
    "    for ch in word:\n",
    "        if ch in vowels:\n",
    "            count += 1\n",
    "    print(\"Number of vowels:\", count)\n",
    "\n",
    "count_vowels(\"Education\")"
   ]
  },
  {
   "cell_type": "markdown",
   "metadata": {},
   "source": [
    "# 5. Simple Interest"
   ]
  },
  {
   "cell_type": "code",
   "execution_count": 8,
   "metadata": {},
   "outputs": [
    {
     "name": "stdout",
     "output_type": "stream",
     "text": [
      "Simple Interest = 100.0\n",
      "Simple Interest = 1600.0\n"
     ]
    }
   ],
   "source": [
    "def simple_interest(p, r, t):\n",
    "    si = (p * r * t) / 100\n",
    "    print(\"Simple Interest =\", si)\n",
    "\n",
    "simple_interest(1000, 5, 2)\n",
    "simple_interest(10000, 8, 2)"
   ]
  },
  {
   "cell_type": "markdown",
   "metadata": {},
   "source": [
    "# 6. Palindrome Checker"
   ]
  },
  {
   "cell_type": "code",
   "execution_count": 14,
   "metadata": {},
   "outputs": [
    {
     "name": "stdout",
     "output_type": "stream",
     "text": [
      "madam is a Palindrome\n",
      "thor is not a Palindrome\n"
     ]
    }
   ],
   "source": [
    "def is_palindrome(text):\n",
    "    if text == text[::-1]:\n",
    "        print(text, \"is a Palindrome\")\n",
    "    else:\n",
    "        print(text, \"is not a Palindrome\")\n",
    "\n",
    "is_palindrome(\"madam\")\n",
    "is_palindrome(\"thor\")"
   ]
  },
  {
   "cell_type": "markdown",
   "metadata": {},
   "source": [
    "# 7. Check Prime Number"
   ]
  },
  {
   "cell_type": "code",
   "execution_count": 17,
   "metadata": {},
   "outputs": [
    {
     "name": "stdout",
     "output_type": "stream",
     "text": [
      "29 is Prime\n",
      "55 is not Prime\n"
     ]
    }
   ],
   "source": [
    "def is_prime(num):\n",
    "    if num <= 1:\n",
    "        print(num, \"is not Prime\")\n",
    "    else:\n",
    "        for i in range(2, num):\n",
    "            if num % i == 0:\n",
    "                print(num, \"is not Prime\")\n",
    "                return\n",
    "        print(num, \"is Prime\")\n",
    "\n",
    "is_prime(29)\n",
    "is_prime(55)"
   ]
  },
  {
   "cell_type": "markdown",
   "metadata": {},
   "source": [
    "# 8. Greet a User"
   ]
  },
  {
   "cell_type": "code",
   "execution_count": 31,
   "metadata": {},
   "outputs": [
    {
     "name": "stdout",
     "output_type": "stream",
     "text": [
      "Good morning, Raj\n"
     ]
    }
   ],
   "source": [
    "import time\n",
    "\n",
    "def greet(name):\n",
    "    hour = int(time.strftime(\"%H\"))\n",
    "\n",
    "    if 6 <= hour <=11:\n",
    "        print(\"Good morning,\", name)\n",
    "    elif 12 <= hour <= 15:\n",
    "        print(\"Good afternoon,\", name)\n",
    "    elif 16 <= hour <= 19:\n",
    "        print(\"Good evening,\", name)\n",
    "    else:\n",
    "        print(\"Good night,\", name)\n",
    "\n",
    "greet(\"Raj\")"
   ]
  },
  {
   "cell_type": "markdown",
   "metadata": {},
   "source": [
    "# 9. Factorial Calculator"
   ]
  },
  {
   "cell_type": "code",
   "execution_count": 30,
   "metadata": {},
   "outputs": [
    {
     "name": "stdout",
     "output_type": "stream",
     "text": [
      "Factorial of 4 is 24\n",
      "Factorial of 5 is 120\n",
      "Factorial of 6 is 720\n"
     ]
    }
   ],
   "source": [
    "def factorial(num):\n",
    "    fact = 1\n",
    "    for i in range(1, num + 1):\n",
    "        fact *= i\n",
    "    print(\"Factorial of\", num, \"is\", fact)\n",
    "\n",
    "factorial(4)\n",
    "factorial(5)\n",
    "factorial(6)"
   ]
  },
  {
   "cell_type": "markdown",
   "metadata": {},
   "source": [
    "# 10. Fibonacci Series"
   ]
  },
  {
   "cell_type": "code",
   "execution_count": 4,
   "metadata": {},
   "outputs": [
    {
     "name": "stdout",
     "output_type": "stream",
     "text": [
      "Fibonacci Series up to 13 terms: \n",
      "0 1 1 2 3 5 8 13 21 34 55 89 144 "
     ]
    }
   ],
   "source": [
    "def fibonacci(n):\n",
    "    a, b = 0, 1\n",
    "    print(\"Fibonacci Series up to\", n, \"terms: \")\n",
    "\n",
    "    for i in range(n):\n",
    "        print(a, end = \" \")\n",
    "        a, b = b, a + b\n",
    "\n",
    "fibonacci(13)"
   ]
  },
  {
   "cell_type": "markdown",
   "metadata": {},
   "source": [
    "# 11. Sum of Natural Numbers"
   ]
  },
  {
   "cell_type": "code",
   "execution_count": 33,
   "metadata": {},
   "outputs": [
    {
     "name": "stdout",
     "output_type": "stream",
     "text": [
      "Sum of first 10 natural numbers is: 55\n",
      "Sum of first 20 natural numbers is: 210\n"
     ]
    }
   ],
   "source": [
    "def sum_natural(n):\n",
    "    total = 0\n",
    "    for i in range(1, n + 1):\n",
    "        total += i\n",
    "    print(\"Sum of first\", n, \"natural numbers is:\", total)\n",
    "\n",
    "sum_natural(10)\n",
    "sum_natural(20)"
   ]
  },
  {
   "cell_type": "markdown",
   "metadata": {},
   "source": [
    "# 12. Find Smallest of Three Numbers"
   ]
  },
  {
   "cell_type": "code",
   "execution_count": 34,
   "metadata": {},
   "outputs": [
    {
     "name": "stdout",
     "output_type": "stream",
     "text": [
      "4 is smallest\n"
     ]
    }
   ],
   "source": [
    "def smallest(a, b, c):\n",
    "    if a < b and a < c:\n",
    "        print(a, \"is smallest\")\n",
    "    elif b < c:\n",
    "        print(b, \"is smallest\")\n",
    "    else:\n",
    "        print(c, \"is smallest\")\n",
    "\n",
    "smallest(13, 23, 4)"
   ]
  },
  {
   "cell_type": "markdown",
   "metadata": {},
   "source": [
    "# 13. Count Digits in a Number"
   ]
  },
  {
   "cell_type": "code",
   "execution_count": 3,
   "metadata": {},
   "outputs": [
    {
     "name": "stdout",
     "output_type": "stream",
     "text": [
      "Number of digits: 13\n"
     ]
    }
   ],
   "source": [
    "def count_digits(num):\n",
    "    count = 0\n",
    "    while num > 0:\n",
    "        count += 1\n",
    "        num //= 10\n",
    "    print(\"Number of digits:\", count)\n",
    "\n",
    "count_digits(5765675435454)"
   ]
  },
  {
   "cell_type": "code",
   "execution_count": null,
   "metadata": {},
   "outputs": [],
   "source": []
  }
 ],
 "metadata": {
  "kernelspec": {
   "display_name": "Python 3.8.6 64-bit",
   "language": "python",
   "name": "python3"
  },
  "language_info": {
   "codemirror_mode": {
    "name": "ipython",
    "version": 3
   },
   "file_extension": ".py",
   "mimetype": "text/x-python",
   "name": "python",
   "nbconvert_exporter": "python",
   "pygments_lexer": "ipython3",
   "version": "3.8.6"
  },
  "orig_nbformat": 4,
  "vscode": {
   "interpreter": {
    "hash": "a4868653bb6f8972e87e4c446ab8a445a15b25dedb8594cc74c480f8152ea86a"
   }
  }
 },
 "nbformat": 4,
 "nbformat_minor": 2
}
