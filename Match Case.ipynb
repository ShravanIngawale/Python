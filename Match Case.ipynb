{
  "nbformat": 4,
  "nbformat_minor": 0,
  "metadata": {
    "colab": {
      "provenance": [],
      "authorship_tag": "ABX9TyOzXGHhY145GM3WrXKCttBO",
      "include_colab_link": true
    },
    "kernelspec": {
      "name": "python3",
      "display_name": "Python 3"
    },
    "language_info": {
      "name": "python"
    }
  },
  "cells": [
    {
      "cell_type": "markdown",
      "metadata": {
        "id": "view-in-github",
        "colab_type": "text"
      },
      "source": [
        "<a href=\"https://colab.research.google.com/github/ShravanIngawale/Python/blob/main/Match_Case.ipynb\" target=\"_parent\"><img src=\"https://colab.research.google.com/assets/colab-badge.svg\" alt=\"Open In Colab\"/></a>"
      ]
    },
    {
      "cell_type": "code",
      "execution_count": null,
      "metadata": {
        "colab": {
          "base_uri": "https://localhost:8080/"
        },
        "id": "soPX1OIbeBvF",
        "outputId": "64ebae7a-ef17-499d-d3ec-7e049b3b7483"
      },
      "outputs": [
        {
          "output_type": "stream",
          "name": "stdout",
          "text": [
            "Enter the value of x: 4\n",
            "case is 4\n"
          ]
        }
      ],
      "source": [
        "x = int(input(\"Enter the value of x: \"))\n",
        "\n",
        "match x:\n",
        "    case 0:\n",
        "        print(\"x is zero\")\n",
        "    case 4:\n",
        "        print(\"case is 4\")\n",
        "    case _ if x!=90:\n",
        "        print(x, \"is not 90\")\n",
        "    case _ if x!=80:\n",
        "        print(x, \"is not 80\")\n",
        "    case _:\n",
        "        print(x)"
      ]
    },
    {
      "cell_type": "code",
      "source": [],
      "metadata": {
        "id": "IKZSXdx0eJaO"
      },
      "execution_count": null,
      "outputs": []
    }
  ]
}
