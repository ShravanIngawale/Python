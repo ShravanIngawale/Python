{
 "cells": [
  {
   "cell_type": "markdown",
   "metadata": {},
   "source": [
    "# union"
   ]
  },
  {
   "cell_type": "code",
   "execution_count": 1,
   "metadata": {},
   "outputs": [
    {
     "name": "stdout",
     "output_type": "stream",
     "text": [
      "{1, 2, 3, 4, 5, 6, 7, 8, 9}\n"
     ]
    }
   ],
   "source": [
    "n1 = {1, 3, 5, 6, 9}\n",
    "n2 = {2, 4, 7, 8}\n",
    "print(n1.union(n2))"
   ]
  },
  {
   "cell_type": "markdown",
   "metadata": {},
   "source": [
    "# update"
   ]
  },
  {
   "cell_type": "code",
   "execution_count": 2,
   "metadata": {},
   "outputs": [
    {
     "name": "stdout",
     "output_type": "stream",
     "text": [
      "{1, 2, 3, 4, 5}\n"
     ]
    }
   ],
   "source": [
    "n1 = {1, 2, 3}\n",
    "n2 = {2, 3, 5, 4}\n",
    "n1.update(n2)\n",
    "print(n1)"
   ]
  },
  {
   "cell_type": "markdown",
   "metadata": {},
   "source": [
    "# intersection"
   ]
  },
  {
   "cell_type": "code",
   "execution_count": 3,
   "metadata": {},
   "outputs": [
    {
     "name": "stdout",
     "output_type": "stream",
     "text": [
      "{'Koala', 'Sheep'}\n"
     ]
    }
   ],
   "source": [
    "animal1 = {\"Sheep\", \"Koala\", \"Antelope\", \"Jaguar\", \"Lion\"}\n",
    "animal2 = {\"Goat\", \"Fox\", \"Sheep\", \"Wolf\", \"Koala\"}\n",
    "print(animal1.intersection(animal2))"
   ]
  },
  {
   "cell_type": "markdown",
   "metadata": {},
   "source": [
    "# intersection_update"
   ]
  },
  {
   "cell_type": "code",
   "execution_count": 1,
   "metadata": {},
   "outputs": [
    {
     "name": "stdout",
     "output_type": "stream",
     "text": [
      "{'Horse', 'Rabbit'}\n"
     ]
    }
   ],
   "source": [
    "animal1 = {\"Dog\", \"Cat\", \"Horse\", \"Rabbit\"}\n",
    "animal2 = {\"Camel\", \"Rhinoceros\",\"Rabbit\", \"Zebra\", \"Horse\"}\n",
    "animal1.intersection_update(animal2)\n",
    "print(animal1)"
   ]
  },
  {
   "cell_type": "markdown",
   "metadata": {},
   "source": [
    "# symmetric_difference"
   ]
  },
  {
   "cell_type": "code",
   "execution_count": 1,
   "metadata": {},
   "outputs": [
    {
     "name": "stdout",
     "output_type": "stream",
     "text": [
      "{'Camel', 'Rhinoceros', 'Cat', 'Dog', 'Zebra'}\n"
     ]
    }
   ],
   "source": [
    "animal1 = {\"Dog\", \"Cat\", \"Horse\", \"Rabbit\"}\n",
    "animal2 = {\"Camel\", \"Rhinoceros\", \"Rabbit\", \"Zebra\", \"Horse\"}\n",
    "print(animal1.symmetric_difference(animal2))"
   ]
  },
  {
   "cell_type": "markdown",
   "metadata": {},
   "source": [
    "# symmetric_difference_update"
   ]
  },
  {
   "cell_type": "code",
   "execution_count": 2,
   "metadata": {},
   "outputs": [
    {
     "name": "stdout",
     "output_type": "stream",
     "text": [
      "{'Dog', 'Zebra', 'Camel', 'Rhinoceros', 'Cat'}\n"
     ]
    }
   ],
   "source": [
    "animal1 = {\"Dog\", \"Cat\", \"Horse\", \"Rabbit\"}\n",
    "animal2 = {\"Camel\", \"Rhinoceros\", \"Rabbit\", \"Zebra\", \"Horse\"}\n",
    "animal1.symmetric_difference_update(animal2)\n",
    "print(animal1)"
   ]
  },
  {
   "cell_type": "markdown",
   "metadata": {},
   "source": [
    "# difference"
   ]
  },
  {
   "cell_type": "code",
   "execution_count": 3,
   "metadata": {},
   "outputs": [
    {
     "name": "stdout",
     "output_type": "stream",
     "text": [
      "{'Cat', 'Dog'}\n"
     ]
    }
   ],
   "source": [
    "animal1 = {\"Dog\", \"Cat\", \"Horse\", \"Rabbit\"}\n",
    "animal2 = {\"Camel\", \"Rhinoceros\", \"Rabbit\", \"Zebra\", \"Horse\"}\n",
    "print(animal1.difference(animal2))"
   ]
  },
  {
   "cell_type": "markdown",
   "metadata": {},
   "source": [
    "# difference_update"
   ]
  },
  {
   "cell_type": "code",
   "execution_count": 4,
   "metadata": {},
   "outputs": [
    {
     "name": "stdout",
     "output_type": "stream",
     "text": [
      "{'Cat', 'Dog'}\n"
     ]
    }
   ],
   "source": [
    "animal1 = {\"Dog\", \"Cat\", \"Horse\", \"Rabbit\"}\n",
    "animal2 = {\"Camel\", \"Rhinoceros\", \"Rabbit\", \"Zebra\", \"Horse\"}\n",
    "animal1.difference_update(animal2)\n",
    "print(animal1)"
   ]
  },
  {
   "cell_type": "markdown",
   "metadata": {},
   "source": [
    "# issuperset"
   ]
  },
  {
   "cell_type": "code",
   "execution_count": 5,
   "metadata": {},
   "outputs": [
    {
     "name": "stdout",
     "output_type": "stream",
     "text": [
      "True\n"
     ]
    }
   ],
   "source": [
    "animal1 = {\"Dog\", \"Cat\", \"Horse\", \"Rabbit\"}\n",
    "animal2 = {\"Rabbit\", \"Horse\"}\n",
    "print(animal1.issuperset(animal2))"
   ]
  },
  {
   "cell_type": "markdown",
   "metadata": {},
   "source": [
    "# issubset"
   ]
  },
  {
   "cell_type": "code",
   "execution_count": 6,
   "metadata": {},
   "outputs": [
    {
     "name": "stdout",
     "output_type": "stream",
     "text": [
      "True\n"
     ]
    }
   ],
   "source": [
    "animal1 = {\"Dog\", \"Cat\", \"Horse\", \"Rabbit\"}\n",
    "animal2 = {\"Rabbit\", \"Horse\"}\n",
    "print(animal2.issubset(animal1))"
   ]
  },
  {
   "cell_type": "markdown",
   "metadata": {},
   "source": [
    "# add"
   ]
  },
  {
   "cell_type": "code",
   "execution_count": 8,
   "metadata": {},
   "outputs": [
    {
     "name": "stdout",
     "output_type": "stream",
     "text": [
      "{'Dog', 'Rabbit', 'Camel', 'Cat', 'Horse'}\n"
     ]
    }
   ],
   "source": [
    "animal1 = {\"Dog\", \"Cat\", \"Horse\", \"Rabbit\"}\n",
    "animal1.add(\"Camel\")\n",
    "print(animal1)"
   ]
  },
  {
   "cell_type": "markdown",
   "metadata": {},
   "source": [
    "# remove"
   ]
  },
  {
   "cell_type": "code",
   "execution_count": 9,
   "metadata": {},
   "outputs": [
    {
     "name": "stdout",
     "output_type": "stream",
     "text": [
      "{'Zebra', 'Rabbit', 'Camel', 'Horse'}\n"
     ]
    }
   ],
   "source": [
    "animal = {\"Camel\", \"Rhinoceros\", \"Rabbit\", \"Zebra\", \"Horse\"}\n",
    "animal.remove(\"Rhinoceros\")\n",
    "print(animal)"
   ]
  },
  {
   "cell_type": "code",
   "execution_count": 10,
   "metadata": {},
   "outputs": [
    {
     "ename": "KeyError",
     "evalue": "'Cat'",
     "output_type": "error",
     "traceback": [
      "\u001b[1;31m---------------------------------------------------------------------------\u001b[0m",
      "\u001b[1;31mKeyError\u001b[0m                                  Traceback (most recent call last)",
      "Cell \u001b[1;32mIn[10], line 2\u001b[0m\n\u001b[0;32m      1\u001b[0m animal \u001b[38;5;241m=\u001b[39m {\u001b[38;5;124m\"\u001b[39m\u001b[38;5;124mCamel\u001b[39m\u001b[38;5;124m\"\u001b[39m, \u001b[38;5;124m\"\u001b[39m\u001b[38;5;124mRhinoceros\u001b[39m\u001b[38;5;124m\"\u001b[39m, \u001b[38;5;124m\"\u001b[39m\u001b[38;5;124mRabbit\u001b[39m\u001b[38;5;124m\"\u001b[39m, \u001b[38;5;124m\"\u001b[39m\u001b[38;5;124mZebra\u001b[39m\u001b[38;5;124m\"\u001b[39m, \u001b[38;5;124m\"\u001b[39m\u001b[38;5;124mHorse\u001b[39m\u001b[38;5;124m\"\u001b[39m}\n\u001b[1;32m----> 2\u001b[0m \u001b[43manimal\u001b[49m\u001b[38;5;241;43m.\u001b[39;49m\u001b[43mremove\u001b[49m\u001b[43m(\u001b[49m\u001b[38;5;124;43m\"\u001b[39;49m\u001b[38;5;124;43mCat\u001b[39;49m\u001b[38;5;124;43m\"\u001b[39;49m\u001b[43m)\u001b[49m\n\u001b[0;32m      3\u001b[0m \u001b[38;5;28mprint\u001b[39m(animal)\n",
      "\u001b[1;31mKeyError\u001b[0m: 'Cat'"
     ]
    }
   ],
   "source": [
    "animal = {\"Camel\", \"Rhinoceros\", \"Rabbit\", \"Zebra\", \"Horse\"}\n",
    "animal.remove(\"Cat\")\n",
    "print(animal)"
   ]
  },
  {
   "cell_type": "markdown",
   "metadata": {},
   "source": [
    "# discard"
   ]
  },
  {
   "cell_type": "code",
   "execution_count": 11,
   "metadata": {},
   "outputs": [
    {
     "name": "stdout",
     "output_type": "stream",
     "text": [
      "{'Zebra', 'Rabbit', 'Camel', 'Horse'}\n"
     ]
    }
   ],
   "source": [
    "animal = {\"Camel\", \"Rhinoceros\", \"Rabbit\", \"Zebra\", \"Horse\"}\n",
    "animal.discard(\"Rhinoceros\")\n",
    "print(animal)"
   ]
  },
  {
   "cell_type": "code",
   "execution_count": 12,
   "metadata": {},
   "outputs": [
    {
     "name": "stdout",
     "output_type": "stream",
     "text": [
      "{'Zebra', 'Rabbit', 'Camel', 'Rhinoceros', 'Horse'}\n"
     ]
    }
   ],
   "source": [
    "animal = {\"Camel\", \"Rhinoceros\", \"Rabbit\", \"Zebra\", \"Horse\"}\n",
    "animal.discard(\"Cat\")           # No error\n",
    "print(animal)"
   ]
  },
  {
   "cell_type": "markdown",
   "metadata": {},
   "source": [
    "# clear"
   ]
  },
  {
   "cell_type": "code",
   "execution_count": 13,
   "metadata": {},
   "outputs": [
    {
     "name": "stdout",
     "output_type": "stream",
     "text": [
      "set()\n"
     ]
    }
   ],
   "source": [
    "animal = {\"Camel\", \"Rhinoceros\", \"Rabbit\", \"Zebra\", \"Horse\"}\n",
    "animal.clear()\n",
    "print(animal)"
   ]
  },
  {
   "cell_type": "markdown",
   "metadata": {},
   "source": [
    "# copy"
   ]
  },
  {
   "cell_type": "code",
   "execution_count": 14,
   "metadata": {},
   "outputs": [
    {
     "name": "stdout",
     "output_type": "stream",
     "text": [
      "{1, 3, 4, 5, 6}\n"
     ]
    }
   ],
   "source": [
    "set1 = {1, 3, 4, 5, 6}\n",
    "set2 = set1.copy()\n",
    "print(set2)"
   ]
  },
  {
   "cell_type": "code",
   "execution_count": null,
   "metadata": {},
   "outputs": [],
   "source": []
  }
 ],
 "metadata": {
  "kernelspec": {
   "display_name": "Python 3.8.6 64-bit",
   "language": "python",
   "name": "python3"
  },
  "language_info": {
   "codemirror_mode": {
    "name": "ipython",
    "version": 3
   },
   "file_extension": ".py",
   "mimetype": "text/x-python",
   "name": "python",
   "nbconvert_exporter": "python",
   "pygments_lexer": "ipython3",
   "version": "3.8.6"
  },
  "orig_nbformat": 4,
  "vscode": {
   "interpreter": {
    "hash": "a4868653bb6f8972e87e4c446ab8a445a15b25dedb8594cc74c480f8152ea86a"
   }
  }
 },
 "nbformat": 4,
 "nbformat_minor": 2
}
