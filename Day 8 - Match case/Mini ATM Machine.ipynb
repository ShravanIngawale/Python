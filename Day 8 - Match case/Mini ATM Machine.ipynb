{
  "nbformat": 4,
  "nbformat_minor": 0,
  "metadata": {
    "colab": {
      "provenance": [],
      "authorship_tag": "ABX9TyNchxnogyu790MuWyfdVzLS",
      "include_colab_link": true
    },
    "kernelspec": {
      "name": "python3",
      "display_name": "Python 3"
    },
    "language_info": {
      "name": "python"
    }
  },
  "cells": [
    {
      "cell_type": "markdown",
      "metadata": {
        "id": "view-in-github",
        "colab_type": "text"
      },
      "source": [
        "<a href=\"https://colab.research.google.com/github/ShravanIngawale/Python/blob/main/Mini%20ATM%20Machine.ipynb\" target=\"_parent\"><img src=\"https://colab.research.google.com/assets/colab-badge.svg\" alt=\"Open In Colab\"/></a>"
      ]
    },
    {
      "cell_type": "code",
      "execution_count": null,
      "metadata": {
        "colab": {
          "base_uri": "https://localhost:8080/"
        },
        "id": "4Rsv1NXYfAe4",
        "outputId": "46dd7cf8-1e11-4ebc-fc1e-17a59a1fcd10"
      },
      "outputs": [
        {
          "output_type": "stream",
          "name": "stdout",
          "text": [
            "Enter your balance: 10000\n",
            "\n",
            "Welcome to simple ATM\n",
            "1. Check Balance\n",
            "2. Deposit Money\n",
            "3. Withdraw Money\n",
            "4. Exit\n",
            "\n",
            "Enter your choice (1-4): 3\n",
            "\n",
            "Enter amount to withdraw: 3000\n",
            "\n",
            "Withdrawal successful!\n",
            "\n",
            "Updated balance: 7000.0\n"
          ]
        }
      ],
      "source": [
        "balance = int(input(\"Enter your balance: \"))\n",
        "\n",
        "print(\"\"\"\\nWelcome to simple ATM\n",
        "1. Check Balance\n",
        "2. Deposit Money\n",
        "3. Withdraw Money\n",
        "4. Exit\\n\"\"\")\n",
        "\n",
        "choice = int(input(\"Enter your choice (1-4): \"))\n",
        "\n",
        "match choice:\n",
        "    case 1:\n",
        "        print(\"\\nYour balance is:\", balance)\n",
        "\n",
        "    case 2:\n",
        "        amount = float(input(\"\\nEnter amount to deposit: \"))\n",
        "        balance = balance + amount\n",
        "        print(\"\\nDeposite successful!\\n\\nUpdated balance:\", balance)\n",
        "\n",
        "    case 3:\n",
        "        amount = float(input(\"\\nEnter amount to withdraw: \"))\n",
        "        if amount <= balance:\n",
        "            balance = balance - amount\n",
        "            print(\"\\nWithdrawal successful!\\n\\nUpdated balance:\", balance)\n",
        "        else:\n",
        "            print(\"\\nInsufficient balance!\")\n",
        "\n",
        "    case 4:\n",
        "        print(\"\\nThank you for using ATM. Goodbye!\")\n",
        "\n",
        "    case _:\n",
        "        print(\"\\nInvalid choice!\")"
      ]
    },
    {
      "cell_type": "code",
      "source": [],
      "metadata": {
        "id": "rjtHunS4fCaR"
      },
      "execution_count": null,
      "outputs": []
    }
  ]
}
