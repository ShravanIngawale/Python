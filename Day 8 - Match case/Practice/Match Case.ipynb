{
  "nbformat": 4,
  "nbformat_minor": 0,
  "metadata": {
    "colab": {
      "provenance": [],
      "authorship_tag": "ABX9TyPt0fFdJVXCHKJWrUhtduzN",
      "include_colab_link": true
    },
    "kernelspec": {
      "name": "python3",
      "display_name": "Python 3"
    },
    "language_info": {
      "name": "python"
    }
  },
  "cells": [
    {
      "cell_type": "markdown",
      "metadata": {
        "id": "view-in-github",
        "colab_type": "text"
      },
      "source": [
        "<a href=\"https://colab.research.google.com/github/ShravanIngawale/Python/blob/main/Match%20Case.ipynb\" target=\"_parent\"><img src=\"https://colab.research.google.com/assets/colab-badge.svg\" alt=\"Open In Colab\"/></a>"
      ]
    },
    {
      "cell_type": "markdown",
      "source": [
        "# Practice\n"
      ],
      "metadata": {
        "id": "S7FdoUm3Mm4M"
      }
    },
    {
      "cell_type": "markdown",
      "source": [
        "## 1. Days of the week"
      ],
      "metadata": {
        "id": "fa3Bxlu7NMUF"
      }
    },
    {
      "cell_type": "code",
      "source": [
        "day = input(\"Enter day name: \")\n",
        "\n",
        "match day:\n",
        "    case \"monday\":\n",
        "        print(\"Start of the work week!\")\n",
        "    case \"friday\":\n",
        "        print(\"Almost weekend!\")\n",
        "    case \"saturday\" | \"sunday\":\n",
        "        print(\"It's the weekend!\")\n",
        "    case _:\n",
        "        print(\"Midweek day!\")"
      ],
      "metadata": {
        "colab": {
          "base_uri": "https://localhost:8080/"
        },
        "id": "_3iL1pcbNug8",
        "outputId": "6cc91938-43ef-4b6b-ef06-7aa0d72b1d49"
      },
      "execution_count": null,
      "outputs": [
        {
          "output_type": "stream",
          "name": "stdout",
          "text": [
            "Enter day name: sunday\n",
            "It's the weekend!\n"
          ]
        }
      ]
    },
    {
      "cell_type": "markdown",
      "source": [
        "## 2. Number to word"
      ],
      "metadata": {
        "id": "nsfW_Tq-N8L1"
      }
    },
    {
      "cell_type": "code",
      "source": [
        "num = int(input(\"Enter a number (1-3): \"))\n",
        "\n",
        "match num:\n",
        "    case 1:\n",
        "        print(\"One\")\n",
        "    case 2:\n",
        "        print(\"Two\")\n",
        "    case 3:\n",
        "        print(\"Three\")\n",
        "    case _:\n",
        "        print(\"Out of range\")"
      ],
      "metadata": {
        "colab": {
          "base_uri": "https://localhost:8080/"
        },
        "id": "78XVUn7kN907",
        "outputId": "6d9e4e2d-7217-4f9e-8bcd-4eb42a25ca8e"
      },
      "execution_count": null,
      "outputs": [
        {
          "output_type": "stream",
          "name": "stdout",
          "text": [
            "Enter a number (1-3): 3\n",
            "Three\n"
          ]
        }
      ]
    },
    {
      "cell_type": "markdown",
      "source": [
        "## 3. Simple calculator"
      ],
      "metadata": {
        "id": "t5XkSXyzOLV1"
      }
    },
    {
      "cell_type": "code",
      "source": [
        "a = float(input(\"Enter first number: \"))\n",
        "b = float(input(\"Enter second number: \"))\n",
        "op = input(\"Enter operation (+, -, *, /): \")\n",
        "\n",
        "match op:\n",
        "    case \"+\":\n",
        "        print(\"Result:\", a + b)\n",
        "    case \"-\":\n",
        "        print(\"Result:\", a - b)\n",
        "    case \"*\":\n",
        "        print(\"Result:\", a * b)\n",
        "    case \"/\":\n",
        "        print(\"Result:\", a / b if b != 0 else \"Cannot divide by zero\")\n",
        "    case _:\n",
        "        print(\"Invalid operation\")"
      ],
      "metadata": {
        "colab": {
          "base_uri": "https://localhost:8080/"
        },
        "id": "rfHfNDgSONmE",
        "outputId": "6a6b0c50-2bac-4354-fecd-04e0d1fabbf2"
      },
      "execution_count": null,
      "outputs": [
        {
          "output_type": "stream",
          "name": "stdout",
          "text": [
            "Enter first number: 13\n",
            "Enter second number: 2\n",
            "Enter operation (+, -, *, /): /\n",
            "Result: 6.5\n"
          ]
        }
      ]
    },
    {
      "cell_type": "markdown",
      "source": [
        "## 4. Traffic light"
      ],
      "metadata": {
        "id": "lEch1WYOOsU-"
      }
    },
    {
      "cell_type": "code",
      "source": [
        "light = input(\"Enter traffic light color: \")\n",
        "\n",
        "match light:\n",
        "    case \"red\":\n",
        "        print(\"Stop!\")\n",
        "    case \"yellow\":\n",
        "        print(\"Slow down!\")\n",
        "    case \"green\":\n",
        "        print(\"Go!\")\n",
        "    case _:\n",
        "        print(\"Invalid color\")"
      ],
      "metadata": {
        "colab": {
          "base_uri": "https://localhost:8080/"
        },
        "id": "lYbEwaT5OvF9",
        "outputId": "b2605f55-b0a8-48dd-a75b-794c84e1c7d4"
      },
      "execution_count": null,
      "outputs": [
        {
          "output_type": "stream",
          "name": "stdout",
          "text": [
            "Enter traffic light color: green\n",
            "Go!\n"
          ]
        }
      ]
    },
    {
      "cell_type": "code",
      "source": [],
      "metadata": {
        "id": "JIDUkbRKOyNa"
      },
      "execution_count": null,
      "outputs": []
    }
  ]
}
