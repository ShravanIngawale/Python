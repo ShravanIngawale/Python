{
 "cells": [
  {
   "cell_type": "markdown",
   "metadata": {},
   "source": [
    "# 1. append"
   ]
  },
  {
   "cell_type": "markdown",
   "metadata": {},
   "source": [
    "## Add student names to a list"
   ]
  },
  {
   "cell_type": "code",
   "execution_count": 1,
   "metadata": {},
   "outputs": [
    {
     "name": "stdout",
     "output_type": "stream",
     "text": [
      "Students List: ['Jack', 'Tom', 'Harry', 'Peter']\n"
     ]
    }
   ],
   "source": [
    "students = [\"Jack\"]\n",
    "students.append(\"Tom\")\n",
    "students.append(\"Harry\")\n",
    "students.append(\"Peter\")\n",
    "\n",
    "print(\"Students List:\", students)"
   ]
  },
  {
   "cell_type": "markdown",
   "metadata": {},
   "source": [
    "## Store prices of items"
   ]
  },
  {
   "cell_type": "code",
   "execution_count": 3,
   "metadata": {},
   "outputs": [
    {
     "name": "stdout",
     "output_type": "stream",
     "text": [
      "Item Prices: [35, 43, 100, 260]\n"
     ]
    }
   ],
   "source": [
    "prices = [35]\n",
    "prices.append(43)\n",
    "prices.append(100)\n",
    "prices.append(260)\n",
    "\n",
    "print(\"Item Prices:\", prices)"
   ]
  },
  {
   "cell_type": "markdown",
   "metadata": {},
   "source": [
    "# 2. sort"
   ]
  },
  {
   "cell_type": "markdown",
   "metadata": {},
   "source": [
    "## Sort student names alphabetically"
   ]
  },
  {
   "cell_type": "code",
   "execution_count": 1,
   "metadata": {},
   "outputs": [
    {
     "name": "stdout",
     "output_type": "stream",
     "text": [
      "Sorted Students: ['Amit', 'Priya', 'Rahul', 'Sneha']\n"
     ]
    }
   ],
   "source": [
    "students = [\"Rahul\", \"Priya\", \"Amit\", \"Sneha\"]\n",
    "students.sort()\n",
    "print(\"Sorted Students:\", students)"
   ]
  },
  {
   "cell_type": "markdown",
   "metadata": {},
   "source": [
    "## Sort prices in ascending order"
   ]
  },
  {
   "cell_type": "code",
   "execution_count": 2,
   "metadata": {},
   "outputs": [
    {
     "name": "stdout",
     "output_type": "stream",
     "text": [
      "Sorted Prices: [75, 100, 150, 250, 300]\n"
     ]
    }
   ],
   "source": [
    "prices = [250, 100, 75, 300, 150]\n",
    "prices.sort()\n",
    "print(\"Sorted Prices:\", prices)"
   ]
  },
  {
   "cell_type": "markdown",
   "metadata": {},
   "source": [
    "# 3. reverse"
   ]
  },
  {
   "cell_type": "markdown",
   "metadata": {},
   "source": [
    "## Reverse numbers in a list"
   ]
  },
  {
   "cell_type": "code",
   "execution_count": 3,
   "metadata": {},
   "outputs": [
    {
     "name": "stdout",
     "output_type": "stream",
     "text": [
      "Reverse List: [67, 45, 33, 23, 10]\n"
     ]
    }
   ],
   "source": [
    "numbers = [10, 23, 33, 45, 67]\n",
    "numbers.reverse()\n",
    "print(\"Reverse List:\", numbers)"
   ]
  },
  {
   "cell_type": "markdown",
   "metadata": {},
   "source": [
    "## Reverse student names list"
   ]
  },
  {
   "cell_type": "code",
   "execution_count": 5,
   "metadata": {},
   "outputs": [
    {
     "name": "stdout",
     "output_type": "stream",
     "text": [
      "Reversed Students: ['Sneha', 'Amit', 'Priya', 'Rahul']\n"
     ]
    }
   ],
   "source": [
    "students = [\"Rahul\", \"Priya\", \"Amit\", \"Sneha\"]\n",
    "students.reverse()\n",
    "print(\"Reversed Students:\", students)"
   ]
  },
  {
   "cell_type": "markdown",
   "metadata": {},
   "source": [
    "# 4. index"
   ]
  },
  {
   "cell_type": "markdown",
   "metadata": {},
   "source": [
    "## Find the index of a number in a list"
   ]
  },
  {
   "cell_type": "code",
   "execution_count": 7,
   "metadata": {},
   "outputs": [
    {
     "name": "stdout",
     "output_type": "stream",
     "text": [
      "Index of 30: 5\n"
     ]
    }
   ],
   "source": [
    "numbers = [12, 32, 34, 45, 56, 23]\n",
    "pos = numbers.index(23)\n",
    "print(\"Index of 30:\", pos)"
   ]
  },
  {
   "cell_type": "markdown",
   "metadata": {},
   "source": [
    "## Find the index of a students in a list"
   ]
  },
  {
   "cell_type": "code",
   "execution_count": 8,
   "metadata": {},
   "outputs": [
    {
     "name": "stdout",
     "output_type": "stream",
     "text": [
      "Index of Amit: 2\n"
     ]
    }
   ],
   "source": [
    "students = [\"Rahul\", \"Priya\", \"Amit\", \"Sneha\"]\n",
    "pos = students.index(\"Amit\")\n",
    "print(\"Index of Amit:\", pos)"
   ]
  },
  {
   "cell_type": "markdown",
   "metadata": {},
   "source": [
    "# 5. count"
   ]
  },
  {
   "cell_type": "markdown",
   "metadata": {},
   "source": [
    "## Count how many times a number appears"
   ]
  },
  {
   "cell_type": "code",
   "execution_count": 9,
   "metadata": {},
   "outputs": [
    {
     "name": "stdout",
     "output_type": "stream",
     "text": [
      "20 appears: 3 times\n"
     ]
    }
   ],
   "source": [
    "numbers = [10, 13, 54, 56, 13, 76, 67, 13]\n",
    "c = numbers.count(13)\n",
    "print(\"20 appears:\", c, \"times\")"
   ]
  },
  {
   "cell_type": "markdown",
   "metadata": {},
   "source": [
    "## Count how many times a name appears"
   ]
  },
  {
   "cell_type": "code",
   "execution_count": 11,
   "metadata": {},
   "outputs": [
    {
     "name": "stdout",
     "output_type": "stream",
     "text": [
      "Rahul appears: 2 times\n"
     ]
    }
   ],
   "source": [
    "students = [\"Rahul\", \"Priya\", \"Amit\", \"Rahul\", \"Sneha\"]\n",
    "c = students.count(\"Rahul\")\n",
    "print(\"Rahul appears:\", c, \"times\")"
   ]
  },
  {
   "cell_type": "markdown",
   "metadata": {},
   "source": [
    "# 6. copy"
   ]
  },
  {
   "cell_type": "markdown",
   "metadata": {},
   "source": [
    "## Copy numbers list"
   ]
  },
  {
   "cell_type": "code",
   "execution_count": 12,
   "metadata": {},
   "outputs": [
    {
     "name": "stdout",
     "output_type": "stream",
     "text": [
      "Original List: [12, 32, 43, 45, 54]\n",
      "Copied List: [12, 32, 43, 45, 54]\n"
     ]
    }
   ],
   "source": [
    "numbers = [12, 32, 43, 45, 54]\n",
    "numbers_copy = numbers.copy()\n",
    "print(\"Original List:\", numbers)\n",
    "print(\"Copied List:\", numbers_copy)"
   ]
  },
  {
   "cell_type": "markdown",
   "metadata": {},
   "source": [
    "## Copy student names list"
   ]
  },
  {
   "cell_type": "code",
   "execution_count": 13,
   "metadata": {},
   "outputs": [
    {
     "name": "stdout",
     "output_type": "stream",
     "text": [
      "Original Students: ['Rahul', 'Priya', 'Amit', 'Sneha']\n",
      "Copied Students: ['Rahul', 'Priya', 'Amit', 'Sneha']\n"
     ]
    }
   ],
   "source": [
    "students = [\"Rahul\", \"Priya\", \"Amit\", \"Sneha\"]\n",
    "students_copy = students.copy()\n",
    "print(\"Original Students:\", students)\n",
    "print(\"Copied Students:\", students_copy)"
   ]
  },
  {
   "cell_type": "markdown",
   "metadata": {},
   "source": [
    "# 7. insert"
   ]
  },
  {
   "cell_type": "markdown",
   "metadata": {},
   "source": [
    "## Insert a number at a specific position"
   ]
  },
  {
   "cell_type": "code",
   "execution_count": 15,
   "metadata": {},
   "outputs": [
    {
     "name": "stdout",
     "output_type": "stream",
     "text": [
      "Updated List: [10, 13, 23, 34, 54]\n"
     ]
    }
   ],
   "source": [
    "numbers = [10, 23, 34, 54]\n",
    "numbers.insert(1, 13)\n",
    "print(\"Updated List:\", numbers)"
   ]
  },
  {
   "cell_type": "markdown",
   "metadata": {},
   "source": [
    "## Inserted a student name at the beginning"
   ]
  },
  {
   "cell_type": "code",
   "execution_count": 16,
   "metadata": {},
   "outputs": [
    {
     "name": "stdout",
     "output_type": "stream",
     "text": [
      "Updated Students: ['Rahul', 'Priya', 'Amit', 'Sneha']\n"
     ]
    }
   ],
   "source": [
    "students = [\"Priya\", \"Amit\", \"Sneha\"]\n",
    "students.insert(0, \"Rahul\")\n",
    "print(\"Updated Students:\", students)"
   ]
  },
  {
   "cell_type": "markdown",
   "metadata": {},
   "source": [
    "# 8. extend"
   ]
  },
  {
   "cell_type": "markdown",
   "metadata": {},
   "source": [
    "## Extend a list of numbers"
   ]
  },
  {
   "cell_type": "code",
   "execution_count": 17,
   "metadata": {},
   "outputs": [
    {
     "name": "stdout",
     "output_type": "stream",
     "text": [
      "Extended List: [1, 2, 3, 4, 5, 6]\n"
     ]
    }
   ],
   "source": [
    "numbers = [1, 2, 3]\n",
    "more_numbers = [4, 5, 6]\n",
    "numbers.extend(more_numbers)\n",
    "print(\"Extended List:\", numbers)"
   ]
  },
  {
   "cell_type": "markdown",
   "metadata": {},
   "source": [
    "## Extend a shopping list"
   ]
  },
  {
   "cell_type": "code",
   "execution_count": 18,
   "metadata": {},
   "outputs": [
    {
     "name": "stdout",
     "output_type": "stream",
     "text": [
      "Updated Shopping List: ['Milk', 'Bread', 'Butter', 'Sugar']\n"
     ]
    }
   ],
   "source": [
    "shopping = [\"Milk\", \"Bread\"]\n",
    "extra_items =[\"Butter\", \"Sugar\"]\n",
    "\n",
    "shopping.extend(extra_items)\n",
    "print(\"Updated Shopping List:\", shopping)"
   ]
  },
  {
   "cell_type": "markdown",
   "metadata": {},
   "source": [
    "# 9. remove"
   ]
  },
  {
   "cell_type": "markdown",
   "metadata": {},
   "source": [
    "## Remove a number from the list"
   ]
  },
  {
   "cell_type": "code",
   "execution_count": 19,
   "metadata": {},
   "outputs": [
    {
     "name": "stdout",
     "output_type": "stream",
     "text": [
      "Updated List: [12, 32, 45, 56, 34]\n"
     ]
    }
   ],
   "source": [
    "numbers = [12, 32, 34, 45, 56, 34]\n",
    "numbers.remove(34)\n",
    "print(\"Updated List:\", numbers)"
   ]
  },
  {
   "cell_type": "markdown",
   "metadata": {},
   "source": [
    "## Remove an item from a shopping list"
   ]
  },
  {
   "cell_type": "code",
   "execution_count": 20,
   "metadata": {},
   "outputs": [
    {
     "name": "stdout",
     "output_type": "stream",
     "text": [
      "Updated Shopping List: ['Milk', 'Bread', 'Butter']\n"
     ]
    }
   ],
   "source": [
    "shopping = [\"Milk\", \"Bread\", \"Butter\", \"Sugar\"]\n",
    "shopping.remove(\"Sugar\")\n",
    "print(\"Updated Shopping List:\", shopping)"
   ]
  },
  {
   "cell_type": "code",
   "execution_count": null,
   "metadata": {},
   "outputs": [],
   "source": []
  }
 ],
 "metadata": {
  "kernelspec": {
   "display_name": "Python 3.8.6 64-bit",
   "language": "python",
   "name": "python3"
  },
  "language_info": {
   "codemirror_mode": {
    "name": "ipython",
    "version": 3
   },
   "file_extension": ".py",
   "mimetype": "text/x-python",
   "name": "python",
   "nbconvert_exporter": "python",
   "pygments_lexer": "ipython3",
   "version": "3.8.6"
  },
  "orig_nbformat": 4,
  "vscode": {
   "interpreter": {
    "hash": "a4868653bb6f8972e87e4c446ab8a445a15b25dedb8594cc74c480f8152ea86a"
   }
  }
 },
 "nbformat": 4,
 "nbformat_minor": 2
}
