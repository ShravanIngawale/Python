{
 "cells": [
  {
   "cell_type": "markdown",
   "metadata": {},
   "source": [
    "# 1. Ask for a positive number"
   ]
  },
  {
   "cell_type": "code",
   "execution_count": 2,
   "metadata": {},
   "outputs": [
    {
     "name": "stdout",
     "output_type": "stream",
     "text": [
      "That's not positive! Try again\n",
      "That's not positive! Try again\n",
      "That's not positive! Try again\n",
      "That's not positive! Try again\n",
      "Thank you! You entered: 13\n"
     ]
    }
   ],
   "source": [
    "while True:\n",
    "    num = int(input(\"Enter a positive number: \"))\n",
    "    if num > 0:\n",
    "        print(\"Thank you! You entered:\", num)\n",
    "        break\n",
    "    else:\n",
    "        print(\"That's not positive! Try again\")"
   ]
  },
  {
   "cell_type": "markdown",
   "metadata": {},
   "source": [
    "# 2. Simple calculator"
   ]
  },
  {
   "cell_type": "code",
   "execution_count": 4,
   "metadata": {},
   "outputs": [
    {
     "name": "stdout",
     "output_type": "stream",
     "text": [
      "Sum = 43\n",
      "Sum = 130\n",
      "Sum = 145\n",
      "Sum = 90\n"
     ]
    }
   ],
   "source": [
    "while True:\n",
    "    a = int(input(\"Enter first number: \"))\n",
    "    b = int(input(\"Enter second number: \"))\n",
    "    print(\"Sum =\", a + b)\n",
    "\n",
    "    choice = input(\"Do you want to continue? (yes/no): \")\n",
    "    if choice == \"no\":\n",
    "        break"
   ]
  },
  {
   "cell_type": "markdown",
   "metadata": {},
   "source": [
    "# 3.Restaurant Menu Order"
   ]
  },
  {
   "cell_type": "code",
   "execution_count": 6,
   "metadata": {},
   "outputs": [
    {
     "name": "stdout",
     "output_type": "stream",
     "text": [
      "Current total = 69\n",
      "Current total = 128\n",
      "Current total = 172\n",
      "Current total = 266\n",
      "Current total = 297\n",
      "Current total = 389\n",
      "Current total = 419\n",
      "Current total = 499\n",
      "Final Bill = 499\n"
     ]
    }
   ],
   "source": [
    "total = 0\n",
    "\n",
    "while True:\n",
    "    price = int(input(\"Enter item price (0 to finish): \"))\n",
    "    if price == 0:\n",
    "        print(\"Final Bill =\", total)\n",
    "        break\n",
    "    else:\n",
    "        total = total + price\n",
    "        print(\"Current total =\", total)"
   ]
  },
  {
   "cell_type": "markdown",
   "metadata": {},
   "source": [
    "# 4. Temperature Logger"
   ]
  },
  {
   "cell_type": "code",
   "execution_count": 9,
   "metadata": {},
   "outputs": [
    {
     "name": "stdout",
     "output_type": "stream",
     "text": [
      "Recorded: 27.0 °C\n",
      "Recorded: 19.0 °C\n",
      "Recorded: 33.0 °C\n",
      "Recorded: 1.0 °C\n",
      "Recorded: 13.0 °C\n",
      "Logging stopped\n"
     ]
    }
   ],
   "source": [
    "while True:\n",
    "    temp = float(input(\"Enter today's temperature (°C): \"))\n",
    "    print(\"Recorded:\", temp, \"°C\")\n",
    "\n",
    "    choice = input(\"Add another record? (yes/no): \")\n",
    "    if choice == \"no\":\n",
    "        print(\"Logging stopped\")\n",
    "        break"
   ]
  },
  {
   "cell_type": "markdown",
   "metadata": {},
   "source": [
    "# 5. Movie Ticket Booking"
   ]
  },
  {
   "cell_type": "code",
   "execution_count": 1,
   "metadata": {},
   "outputs": [
    {
     "name": "stdout",
     "output_type": "stream",
     "text": [
      "Ticket Price: 200 Rs (Adult) \n",
      "Ticket Price: 200 Rs (Adult) \n",
      "Ticket Price: 100 Rs (Child) \n",
      "Ticket Price: 100 Rs (Child) \n",
      "Ticket Price: 150 Rs (Senior Citizen) \n",
      "Ticket Price: 150 Rs (Senior Citizen) \n",
      "Booking closed. Thank you!\n"
     ]
    }
   ],
   "source": [
    "while True:\n",
    "    age = int(input(\"Enter your age (0 to exit): \"))\n",
    "\n",
    "    if age == 0:\n",
    "        print(\"Booking closed. Thank you!\")\n",
    "        break\n",
    "    elif age < 12:\n",
    "        print(\"Ticket Price: 100 Rs (Child) \")\n",
    "    elif age < 60:\n",
    "        print(\"Ticket Price: 200 Rs (Adult) \")\n",
    "    else:\n",
    "        print(\"Ticket Price: 150 Rs (Senior Citizen) \")"
   ]
  },
  {
   "cell_type": "code",
   "execution_count": null,
   "metadata": {},
   "outputs": [],
   "source": []
  }
 ],
 "metadata": {
  "kernelspec": {
   "display_name": "Python 3.8.6 64-bit",
   "language": "python",
   "name": "python3"
  },
  "language_info": {
   "codemirror_mode": {
    "name": "ipython",
    "version": 3
   },
   "file_extension": ".py",
   "mimetype": "text/x-python",
   "name": "python",
   "nbconvert_exporter": "python",
   "pygments_lexer": "ipython3",
   "version": "3.8.6"
  },
  "orig_nbformat": 4,
  "vscode": {
   "interpreter": {
    "hash": "a4868653bb6f8972e87e4c446ab8a445a15b25dedb8594cc74c480f8152ea86a"
   }
  }
 },
 "nbformat": 4,
 "nbformat_minor": 2
}
