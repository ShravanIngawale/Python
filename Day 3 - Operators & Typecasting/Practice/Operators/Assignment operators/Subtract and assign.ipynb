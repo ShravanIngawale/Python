{
 "cells": [
  {
   "cell_type": "markdown",
   "metadata": {},
   "source": [
    "# 1. Wallet Money"
   ]
  },
  {
   "cell_type": "code",
   "execution_count": 1,
   "metadata": {},
   "outputs": [
    {
     "name": "stdout",
     "output_type": "stream",
     "text": [
      "Money left in wallet = 350\n"
     ]
    }
   ],
   "source": [
    "wallet = 500\n",
    "\n",
    "wallet -= 100\n",
    "wallet -= 50\n",
    "\n",
    "print(\"Money left in wallet =\", wallet)"
   ]
  },
  {
   "cell_type": "markdown",
   "metadata": {},
   "source": [
    "# 2. Mobile Data Usage"
   ]
  },
  {
   "cell_type": "code",
   "execution_count": 2,
   "metadata": {},
   "outputs": [
    {
     "name": "stdout",
     "output_type": "stream",
     "text": [
      "Remaining Data = 2 GB\n"
     ]
    }
   ],
   "source": [
    "data = 5\n",
    "\n",
    "data -=1\n",
    "data -=2\n",
    "\n",
    "print(\"Remaining Data =\", data, \"GB\")"
   ]
  },
  {
   "cell_type": "markdown",
   "metadata": {},
   "source": [
    "# 3. Exam Marks Deduction"
   ]
  },
  {
   "cell_type": "code",
   "execution_count": 3,
   "metadata": {},
   "outputs": [
    {
     "name": "stdout",
     "output_type": "stream",
     "text": [
      "Final Marks = 85\n"
     ]
    }
   ],
   "source": [
    "marks = 100\n",
    "\n",
    "marks -= 10\n",
    "marks -= 5\n",
    "\n",
    "print(\"Final Marks =\", marks)"
   ]
  },
  {
   "cell_type": "markdown",
   "metadata": {},
   "source": [
    "# 4. Fuel in Bike"
   ]
  },
  {
   "cell_type": "code",
   "execution_count": 4,
   "metadata": {},
   "outputs": [
    {
     "name": "stdout",
     "output_type": "stream",
     "text": [
      "Fuel left = 7 liters\n"
     ]
    }
   ],
   "source": [
    "fuel = 15\n",
    "\n",
    "fuel -= 3\n",
    "fuel -= 5\n",
    "\n",
    "print(\"Fuel left =\", fuel, \"liters\")"
   ]
  },
  {
   "cell_type": "markdown",
   "metadata": {},
   "source": [
    "# 5. Shopping Balance"
   ]
  },
  {
   "cell_type": "code",
   "execution_count": 5,
   "metadata": {},
   "outputs": [
    {
     "name": "stdout",
     "output_type": "stream",
     "text": [
      "Balance left = 500\n"
     ]
    }
   ],
   "source": [
    "balance = 2000\n",
    "\n",
    "balance -= 1200\n",
    "balance -= 300\n",
    "\n",
    "print(\"Balance left =\", balance)"
   ]
  },
  {
   "cell_type": "code",
   "execution_count": null,
   "metadata": {},
   "outputs": [],
   "source": []
  }
 ],
 "metadata": {
  "kernelspec": {
   "display_name": "Python 3.8.6 64-bit",
   "language": "python",
   "name": "python3"
  },
  "language_info": {
   "codemirror_mode": {
    "name": "ipython",
    "version": 3
   },
   "file_extension": ".py",
   "mimetype": "text/x-python",
   "name": "python",
   "nbconvert_exporter": "python",
   "pygments_lexer": "ipython3",
   "version": "3.8.6"
  },
  "orig_nbformat": 4,
  "vscode": {
   "interpreter": {
    "hash": "a4868653bb6f8972e87e4c446ab8a445a15b25dedb8594cc74c480f8152ea86a"
   }
  }
 },
 "nbformat": 4,
 "nbformat_minor": 2
}
