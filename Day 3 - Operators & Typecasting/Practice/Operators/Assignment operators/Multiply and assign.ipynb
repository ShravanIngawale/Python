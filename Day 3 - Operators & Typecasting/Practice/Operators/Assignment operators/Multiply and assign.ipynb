{
 "cells": [
  {
   "cell_type": "markdown",
   "metadata": {},
   "source": [
    "# 1. Salary Bonus"
   ]
  },
  {
   "cell_type": "code",
   "execution_count": 1,
   "metadata": {},
   "outputs": [
    {
     "name": "stdout",
     "output_type": "stream",
     "text": [
      "Final Salary = 20000\n"
     ]
    }
   ],
   "source": [
    "salary = 10000\n",
    "\n",
    "salary *= 2\n",
    "\n",
    "print(\"Final Salary =\", salary)"
   ]
  },
  {
   "cell_type": "markdown",
   "metadata": {},
   "source": [
    "# 2. Area of Square"
   ]
  },
  {
   "cell_type": "code",
   "execution_count": 2,
   "metadata": {},
   "outputs": [
    {
     "name": "stdout",
     "output_type": "stream",
     "text": [
      "Area of Square = 25\n"
     ]
    }
   ],
   "source": [
    "side = 5\n",
    "\n",
    "area = side\n",
    "area *= side\n",
    "\n",
    "print(\"Area of Square =\", area)"
   ]
  },
  {
   "cell_type": "markdown",
   "metadata": {},
   "source": [
    "# 3. Price Increase"
   ]
  },
  {
   "cell_type": "code",
   "execution_count": 3,
   "metadata": {},
   "outputs": [
    {
     "name": "stdout",
     "output_type": "stream",
     "text": [
      "Total Price = 150\n"
     ]
    }
   ],
   "source": [
    "price = 50\n",
    "\n",
    "price *= 3\n",
    "\n",
    "print(\"Total Price =\", price)"
   ]
  },
  {
   "cell_type": "markdown",
   "metadata": {},
   "source": [
    "# 4. Energy Consumption"
   ]
  },
  {
   "cell_type": "code",
   "execution_count": 4,
   "metadata": {},
   "outputs": [
    {
     "name": "stdout",
     "output_type": "stream",
     "text": [
      "Electricity Bill = 500\n"
     ]
    }
   ],
   "source": [
    "units = 100\n",
    "cost_per_unit = 5\n",
    "\n",
    "bill = cost_per_unit\n",
    "bill *= units\n",
    "\n",
    "print(\"Electricity Bill =\", bill)"
   ]
  },
  {
   "cell_type": "markdown",
   "metadata": {},
   "source": [
    "# 5. Current Conversion"
   ]
  },
  {
   "cell_type": "code",
   "execution_count": 5,
   "metadata": {},
   "outputs": [
    {
     "name": "stdout",
     "output_type": "stream",
     "text": [
      "Total Rupees = 1144\n"
     ]
    }
   ],
   "source": [
    "dollars = 13\n",
    "rate = 88\n",
    "\n",
    "rupees = dollars\n",
    "rupees *= rate\n",
    "\n",
    "print(\"Total Rupees =\", rupees)"
   ]
  },
  {
   "cell_type": "code",
   "execution_count": null,
   "metadata": {},
   "outputs": [],
   "source": []
  }
 ],
 "metadata": {
  "kernelspec": {
   "display_name": "Python 3.8.6 64-bit",
   "language": "python",
   "name": "python3"
  },
  "language_info": {
   "codemirror_mode": {
    "name": "ipython",
    "version": 3
   },
   "file_extension": ".py",
   "mimetype": "text/x-python",
   "name": "python",
   "nbconvert_exporter": "python",
   "pygments_lexer": "ipython3",
   "version": "3.8.6"
  },
  "orig_nbformat": 4,
  "vscode": {
   "interpreter": {
    "hash": "a4868653bb6f8972e87e4c446ab8a445a15b25dedb8594cc74c480f8152ea86a"
   }
  }
 },
 "nbformat": 4,
 "nbformat_minor": 2
}
