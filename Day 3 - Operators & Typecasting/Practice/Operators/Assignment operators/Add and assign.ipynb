{
 "cells": [
  {
   "cell_type": "markdown",
   "metadata": {},
   "source": [
    "# 1. Numbers"
   ]
  },
  {
   "cell_type": "code",
   "execution_count": 1,
   "metadata": {},
   "outputs": [
    {
     "name": "stdout",
     "output_type": "stream",
     "text": [
      "Start: 10\n",
      "After adding 5: 15\n",
      "After adding 2: 17\n"
     ]
    }
   ],
   "source": [
    "x = 10\n",
    "print(\"Start:\", x)\n",
    "\n",
    "x += 5\n",
    "print(\"After adding 5:\", x)\n",
    "\n",
    "x += 2\n",
    "print(\"After adding 2:\", x)"
   ]
  },
  {
   "cell_type": "markdown",
   "metadata": {},
   "source": [
    "# 2. Strings"
   ]
  },
  {
   "cell_type": "code",
   "execution_count": 2,
   "metadata": {},
   "outputs": [
    {
     "name": "stdout",
     "output_type": "stream",
     "text": [
      "Full Name: Tony Stark\n"
     ]
    }
   ],
   "source": [
    "name = \"Tony\"\n",
    "name += \" \"\n",
    "name += \"Stark\"\n",
    "print(\"Full Name:\", name)"
   ]
  },
  {
   "cell_type": "markdown",
   "metadata": {},
   "source": [
    "# 3. Expenses"
   ]
  },
  {
   "cell_type": "code",
   "execution_count": 3,
   "metadata": {},
   "outputs": [
    {
     "name": "stdout",
     "output_type": "stream",
     "text": [
      "Total Expense = 100\n"
     ]
    }
   ],
   "source": [
    "total_expense = 0\n",
    "\n",
    "total_expense += 50\n",
    "total_expense += 20\n",
    "total_expense += 30\n",
    "\n",
    "print(\"Total Expense =\", total_expense)"
   ]
  },
  {
   "cell_type": "markdown",
   "metadata": {},
   "source": [
    "# 4. Bank balance"
   ]
  },
  {
   "cell_type": "code",
   "execution_count": 4,
   "metadata": {},
   "outputs": [
    {
     "name": "stdout",
     "output_type": "stream",
     "text": [
      "Final Balance = 1700\n"
     ]
    }
   ],
   "source": [
    "balance = 1000\n",
    "\n",
    "balance += 200\n",
    "balance += 500\n",
    "\n",
    "print(\"Final Balance =\", balance)"
   ]
  },
  {
   "cell_type": "markdown",
   "metadata": {},
   "source": [
    "# 5. Word Building"
   ]
  },
  {
   "cell_type": "code",
   "execution_count": 3,
   "metadata": {},
   "outputs": [
    {
     "name": "stdout",
     "output_type": "stream",
     "text": [
      "Result: Python\n"
     ]
    }
   ],
   "source": [
    "word = \"\"\n",
    "\n",
    "word += \"Py\"\n",
    "word += \"thon\"\n",
    "\n",
    "print(\"Result:\", word)"
   ]
  },
  {
   "cell_type": "markdown",
   "metadata": {},
   "source": []
  }
 ],
 "metadata": {
  "kernelspec": {
   "display_name": "Python 3.8.6 64-bit",
   "language": "python",
   "name": "python3"
  },
  "language_info": {
   "codemirror_mode": {
    "name": "ipython",
    "version": 3
   },
   "file_extension": ".py",
   "mimetype": "text/x-python",
   "name": "python",
   "nbconvert_exporter": "python",
   "pygments_lexer": "ipython3",
   "version": "3.8.6"
  },
  "orig_nbformat": 4,
  "vscode": {
   "interpreter": {
    "hash": "a4868653bb6f8972e87e4c446ab8a445a15b25dedb8594cc74c480f8152ea86a"
   }
  }
 },
 "nbformat": 4,
 "nbformat_minor": 2
}
