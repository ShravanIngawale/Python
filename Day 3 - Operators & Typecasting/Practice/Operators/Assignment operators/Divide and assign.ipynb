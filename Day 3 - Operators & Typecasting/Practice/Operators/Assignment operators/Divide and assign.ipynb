{
 "cells": [
  {
   "cell_type": "markdown",
   "metadata": {},
   "source": [
    "# 1. Splitting Pizza"
   ]
  },
  {
   "cell_type": "code",
   "execution_count": 2,
   "metadata": {},
   "outputs": [
    {
     "name": "stdout",
     "output_type": "stream",
     "text": [
      "Each friend gets = 3.0 slices\n"
     ]
    }
   ],
   "source": [
    "pizza_slices = 12\n",
    "\n",
    "pizza_slices /= 4\n",
    "\n",
    "print(\"Each friend gets =\", pizza_slices, \"slices\")"
   ]
  },
  {
   "cell_type": "markdown",
   "metadata": {},
   "source": [
    "# 2. Sharing Money"
   ]
  },
  {
   "cell_type": "code",
   "execution_count": 3,
   "metadata": {},
   "outputs": [
    {
     "name": "stdout",
     "output_type": "stream",
     "text": [
      "Each person gets = 200.0 rupees\n"
     ]
    }
   ],
   "source": [
    "money = 1000\n",
    "\n",
    "money /= 5\n",
    "\n",
    "print(\"Each person gets =\", money, \"rupees\")"
   ]
  },
  {
   "cell_type": "markdown",
   "metadata": {},
   "source": [
    "# 3. Speed Reduction"
   ]
  },
  {
   "cell_type": "code",
   "execution_count": 4,
   "metadata": {},
   "outputs": [
    {
     "name": "stdout",
     "output_type": "stream",
     "text": [
      "New Speed = 60.0 km/h\n"
     ]
    }
   ],
   "source": [
    "speed = 120\n",
    "\n",
    "speed /= 2\n",
    "\n",
    "print(\"New Speed =\", speed, \"km/h\")"
   ]
  },
  {
   "cell_type": "markdown",
   "metadata": {},
   "source": [
    "# 4. Water Tank"
   ]
  },
  {
   "cell_type": "code",
   "execution_count": 5,
   "metadata": {},
   "outputs": [
    {
     "name": "stdout",
     "output_type": "stream",
     "text": [
      "Each bucket gets = 20.0 liters\n"
     ]
    }
   ],
   "source": [
    "water_liters = 200\n",
    "\n",
    "water_liters /= 10\n",
    "\n",
    "print(\"Each bucket gets =\", water_liters, \"liters\")"
   ]
  },
  {
   "cell_type": "markdown",
   "metadata": {},
   "source": [
    "# 5. Study Hours"
   ]
  },
  {
   "cell_type": "code",
   "execution_count": 6,
   "metadata": {},
   "outputs": [
    {
     "name": "stdout",
     "output_type": "stream",
     "text": [
      "You need to study = 5.0 hours per day\n"
     ]
    }
   ],
   "source": [
    "total_hours = 30\n",
    "\n",
    "total_hours /= 6    # divide study hours over 6 days\n",
    "\n",
    "print(\"You need to study =\", total_hours, \"hours per day\")"
   ]
  },
  {
   "cell_type": "code",
   "execution_count": null,
   "metadata": {},
   "outputs": [],
   "source": []
  }
 ],
 "metadata": {
  "kernelspec": {
   "display_name": "Python 3.8.6 64-bit",
   "language": "python",
   "name": "python3"
  },
  "language_info": {
   "codemirror_mode": {
    "name": "ipython",
    "version": 3
   },
   "file_extension": ".py",
   "mimetype": "text/x-python",
   "name": "python",
   "nbconvert_exporter": "python",
   "pygments_lexer": "ipython3",
   "version": "3.8.6"
  },
  "orig_nbformat": 4,
  "vscode": {
   "interpreter": {
    "hash": "a4868653bb6f8972e87e4c446ab8a445a15b25dedb8594cc74c480f8152ea86a"
   }
  }
 },
 "nbformat": 4,
 "nbformat_minor": 2
}
