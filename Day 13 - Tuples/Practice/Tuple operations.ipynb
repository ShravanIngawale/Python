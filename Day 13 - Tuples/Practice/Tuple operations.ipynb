{
 "cells": [
  {
   "cell_type": "markdown",
   "metadata": {},
   "source": [
    "# 1. append & remove methods"
   ]
  },
  {
   "cell_type": "code",
   "execution_count": 7,
   "metadata": {},
   "outputs": [
    {
     "name": "stdout",
     "output_type": "stream",
     "text": [
      "Original Tuple: ('Apple', 'Banana', 'Mango')\n",
      "Modified List: ['Apple', 'Mango', 'Orange']\n",
      "Final Tuple: ('Apple', 'Mango', 'Orange')\n"
     ]
    }
   ],
   "source": [
    "fruits_tuple = (\"Apple\", \"Banana\", \"Mango\")\n",
    "print(\"Original Tuple:\", fruits_tuple)\n",
    "\n",
    "fruits_list = list(fruits_tuple)\n",
    "\n",
    "fruits_list.append(\"Orange\")\n",
    "fruits_list.remove(\"Banana\")\n",
    "print(\"Modified List:\", fruits_list)\n",
    "\n",
    "updated_fruits_tuple = tuple(fruits_list)\n",
    "\n",
    "print(\"Final Tuple:\", updated_fruits_tuple)"
   ]
  },
  {
   "cell_type": "markdown",
   "metadata": {},
   "source": [
    "# 2. insert method"
   ]
  },
  {
   "cell_type": "code",
   "execution_count": 8,
   "metadata": {},
   "outputs": [
    {
     "name": "stdout",
     "output_type": "stream",
     "text": [
      "Original Tuple: ('Apple', 'Banana', 'Mango')\n",
      "Modified List after insert: ['Apple', 'Orange', 'Banana', 'Mango']\n",
      "Final Tuple: ('Apple', 'Orange', 'Banana', 'Mango')\n"
     ]
    }
   ],
   "source": [
    "fruits_tuple = (\"Apple\", \"Banana\", \"Mango\")\n",
    "print(\"Original Tuple:\", fruits_tuple)\n",
    "\n",
    "fruits_list = list(fruits_tuple)\n",
    "\n",
    "fruits_list.insert(1, \"Orange\")\n",
    "print(\"Modified List after insert:\", fruits_list)\n",
    "\n",
    "updated_fruits_tuple = tuple(fruits_list)\n",
    "\n",
    "print(\"Final Tuple:\", updated_fruits_tuple)"
   ]
  },
  {
   "cell_type": "markdown",
   "metadata": {},
   "source": [
    "# 3. extend method"
   ]
  },
  {
   "cell_type": "code",
   "execution_count": 9,
   "metadata": {},
   "outputs": [
    {
     "name": "stdout",
     "output_type": "stream",
     "text": [
      "Original Tuple: (1, 2, 3)\n",
      "Modified List after extend: [1, 2, 3, 4, 5, 6]\n",
      "Final Tuple: (1, 2, 3, 4, 5, 6)\n"
     ]
    }
   ],
   "source": [
    "numbers_tuple = (1, 2, 3)\n",
    "print(\"Original Tuple:\", numbers_tuple)\n",
    "\n",
    "numbers_list = list(numbers_tuple)\n",
    "\n",
    "numbers_list.extend([4, 5, 6])\n",
    "print(\"Modified List after extend:\", numbers_list)\n",
    "\n",
    "updated_numbers_tuple = tuple(numbers_list)\n",
    "\n",
    "print(\"Final Tuple:\", updated_numbers_tuple)"
   ]
  },
  {
   "cell_type": "markdown",
   "metadata": {},
   "source": [
    "# 4. reverse method"
   ]
  },
  {
   "cell_type": "code",
   "execution_count": 10,
   "metadata": {},
   "outputs": [
    {
     "name": "stdout",
     "output_type": "stream",
     "text": [
      "Original Tuple: ('A', 'B', 'C', 'D')\n",
      "Modified List after reverse: ['D', 'C', 'B', 'A']\n",
      "Final Tuple: ('D', 'C', 'B', 'A')\n"
     ]
    }
   ],
   "source": [
    "letters_tuple = (\"A\", \"B\", \"C\", \"D\")\n",
    "print(\"Original Tuple:\", letters_tuple)\n",
    "\n",
    "letters_list = list(letters_tuple)\n",
    "\n",
    "letters_list.reverse()\n",
    "print(\"Modified List after reverse:\", letters_list)\n",
    "\n",
    "updated_list_tuple = tuple(letters_list)\n",
    "\n",
    "print(\"Final Tuple:\", updated_list_tuple)"
   ]
  },
  {
   "cell_type": "markdown",
   "metadata": {},
   "source": [
    "# 5. index & count methods"
   ]
  },
  {
   "cell_type": "code",
   "execution_count": 14,
   "metadata": {},
   "outputs": [
    {
     "name": "stdout",
     "output_type": "stream",
     "text": [
      "Original Tuple: ('Cat', 'Dog', 'Cat', 'Elephant')\n",
      "Index of 'Dog': 1\n",
      "Count of 'Cat': 2\n",
      "Final Tuple: ('Cat', 'Dog', 'Cat', 'Elephant')\n"
     ]
    },
    {
     "ename": "",
     "evalue": "",
     "output_type": "error",
     "traceback": [
      "\u001b[1;31mThe Kernel crashed while executing code in the the current cell or a previous cell. Please review the code in the cell(s) to identify a possible cause of the failure. Click <a href='https://aka.ms/vscodeJupyterKernelCrash'>here</a> for more info. View Jupyter <a href='command:jupyter.viewOutput'>log</a> for further details."
     ]
    }
   ],
   "source": [
    "animal_tuple = (\"Cat\", \"Dog\", \"Cat\", \"Elephant\")\n",
    "print(\"Original Tuple:\", animal_tuple)\n",
    "\n",
    "animal_list = list(animal_tuple)\n",
    "\n",
    "index_of_dog = animal_list.index(\"Dog\")\n",
    "cat_count = animal_list.count(\"Cat\")\n",
    "print(\"Index of 'Dog':\", index_of_dog)\n",
    "print(\"Count of 'Cat':\", cat_count)\n",
    "\n",
    "updated_animal_tuple = tuple(animal_list)\n",
    "\n",
    "print(\"Final Tuple:\", updated_animal_tuple)"
   ]
  },
  {
   "cell_type": "code",
   "execution_count": null,
   "metadata": {},
   "outputs": [],
   "source": []
  }
 ],
 "metadata": {
  "kernelspec": {
   "display_name": "Python 3.8.6 64-bit",
   "language": "python",
   "name": "python3"
  },
  "language_info": {
   "name": "python",
   "version": "3.8.6"
  },
  "orig_nbformat": 4,
  "vscode": {
   "interpreter": {
    "hash": "a4868653bb6f8972e87e4c446ab8a445a15b25dedb8594cc74c480f8152ea86a"
   }
  }
 },
 "nbformat": 4,
 "nbformat_minor": 2
}
