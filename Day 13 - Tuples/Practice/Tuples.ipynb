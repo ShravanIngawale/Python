{
 "cells": [
  {
   "cell_type": "markdown",
   "metadata": {},
   "source": [
    "# 1. Create a Tuple and Access Elements"
   ]
  },
  {
   "cell_type": "code",
   "execution_count": 1,
   "metadata": {},
   "outputs": [
    {
     "name": "stdout",
     "output_type": "stream",
     "text": [
      "First student: Rahul\n",
      "Last student: Sneha\n"
     ]
    }
   ],
   "source": [
    "student = (\"Rahul\", \"Priya\", \"Amit\", \"Sneha\")\n",
    "\n",
    "print(\"First student:\", student[0])\n",
    "print(\"Last student:\", student[-1])"
   ]
  },
  {
   "cell_type": "markdown",
   "metadata": {},
   "source": [
    "# 2. Tuple Unpacking"
   ]
  },
  {
   "cell_type": "code",
   "execution_count": 2,
   "metadata": {},
   "outputs": [
    {
     "name": "stdout",
     "output_type": "stream",
     "text": [
      "X coordinate: 10\n",
      "Y coordinate: 20\n",
      "Z coordinate: 30\n"
     ]
    }
   ],
   "source": [
    "point = (10, 20, 30)\n",
    "\n",
    "x, y, z = point\n",
    "\n",
    "print(\"X coordinate:\", x)\n",
    "print(\"Y coordinate:\", y)\n",
    "print(\"Z coordinate:\", z)"
   ]
  },
  {
   "cell_type": "markdown",
   "metadata": {},
   "source": [
    "# 3. Find Length of Tuple"
   ]
  },
  {
   "cell_type": "code",
   "execution_count": 3,
   "metadata": {},
   "outputs": [
    {
     "name": "stdout",
     "output_type": "stream",
     "text": [
      "Numbers of element in tuple: 6\n"
     ]
    }
   ],
   "source": [
    "numbers = (2, 3, 45, 5, 55, 56)\n",
    "\n",
    "length = len(numbers)\n",
    "print(\"Numbers of element in tuple:\", length)"
   ]
  },
  {
   "cell_type": "markdown",
   "metadata": {},
   "source": [
    "# 4. Check if an Element Exists in Tuple"
   ]
  },
  {
   "cell_type": "code",
   "execution_count": 4,
   "metadata": {},
   "outputs": [
    {
     "name": "stdout",
     "output_type": "stream",
     "text": [
      "Is Mango present? True\n"
     ]
    }
   ],
   "source": [
    "fruit = (\"Apple\", \"Banana\", \"Mango\", \"Orange\")\n",
    "\n",
    "is_present = \"Mango\" in fruit\n",
    "print(\"Is Mango present?\", is_present)"
   ]
  },
  {
   "cell_type": "markdown",
   "metadata": {},
   "source": [
    "# 5. Store & Access Employee Information"
   ]
  },
  {
   "cell_type": "code",
   "execution_count": 5,
   "metadata": {},
   "outputs": [
    {
     "name": "stdout",
     "output_type": "stream",
     "text": [
      "Employee ID: 101\n",
      "Employee Name: Rahul Sharma\n",
      "Employee Department: Sales\n"
     ]
    }
   ],
   "source": [
    "employee = (101, \"Rahul Sharma\", \"Sales\")\n",
    "\n",
    "employee_id = employee[0]\n",
    "employee_name = employee[1]\n",
    "employee_department = employee[2]\n",
    "\n",
    "print(\"Employee ID:\", employee_id)\n",
    "print(\"Employee Name:\", employee_name)\n",
    "print(\"Employee Department:\", employee_department)"
   ]
  },
  {
   "cell_type": "code",
   "execution_count": null,
   "metadata": {},
   "outputs": [],
   "source": []
  }
 ],
 "metadata": {
  "kernelspec": {
   "display_name": "Python 3.8.6 64-bit",
   "language": "python",
   "name": "python3"
  },
  "language_info": {
   "codemirror_mode": {
    "name": "ipython",
    "version": 3
   },
   "file_extension": ".py",
   "mimetype": "text/x-python",
   "name": "python",
   "nbconvert_exporter": "python",
   "pygments_lexer": "ipython3",
   "version": "3.8.6"
  },
  "orig_nbformat": 4,
  "vscode": {
   "interpreter": {
    "hash": "a4868653bb6f8972e87e4c446ab8a445a15b25dedb8594cc74c480f8152ea86a"
   }
  }
 },
 "nbformat": 4,
 "nbformat_minor": 2
}
