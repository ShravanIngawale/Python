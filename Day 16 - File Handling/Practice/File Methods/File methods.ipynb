{
 "cells": [
  {
   "cell_type": "code",
   "execution_count": 1,
   "metadata": {},
   "outputs": [],
   "source": [
    "with open(\"Sample.txt\", 'w') as f:\n",
    "    f.write(\"Line 1: Hello\\n\")\n",
    "    f.write(\"Line 2: Welcome to Python\\n\")\n",
    "    f.write(\"Line 3: Have a nice day\\n\")"
   ]
  },
  {
   "cell_type": "markdown",
   "metadata": {},
   "source": [
    "# Read lines"
   ]
  },
  {
   "cell_type": "code",
   "execution_count": 2,
   "metadata": {},
   "outputs": [
    {
     "name": "stdout",
     "output_type": "stream",
     "text": [
      "First line: Line 1: Hello\n",
      "\n",
      "Second line: Line 2: Welcome to Python\n",
      "\n",
      "Third line: Line 3: Have a nice day\n",
      "\n"
     ]
    }
   ],
   "source": [
    "with open(\"Sample.txt\", 'r') as f:\n",
    "    line1 = f.readline()\n",
    "    print(\"First line:\", line1)\n",
    "\n",
    "    line2 = f.readline()\n",
    "    print(\"Second line:\", line2)\n",
    "\n",
    "    line3 = f.readline()\n",
    "    print(\"Third line:\", line3)"
   ]
  },
  {
   "cell_type": "markdown",
   "metadata": {},
   "source": [
    "# Write lines"
   ]
  },
  {
   "cell_type": "code",
   "execution_count": 3,
   "metadata": {},
   "outputs": [],
   "source": [
    "with open(\"Sample2.txt\", 'w') as f:\n",
    "    lines = [\n",
    "        \"Line 1: Python is fun\\n\"\n",
    "        \"Line 2: Practice makes perfect\\n\"\n",
    "        \"Line 3: Keep learning every day\"\n",
    "    ]\n",
    "    f.writelines(lines)"
   ]
  },
  {
   "cell_type": "code",
   "execution_count": null,
   "metadata": {},
   "outputs": [],
   "source": []
  }
 ],
 "metadata": {
  "kernelspec": {
   "display_name": "Python 3.8.6 64-bit",
   "language": "python",
   "name": "python3"
  },
  "language_info": {
   "codemirror_mode": {
    "name": "ipython",
    "version": 3
   },
   "file_extension": ".py",
   "mimetype": "text/x-python",
   "name": "python",
   "nbconvert_exporter": "python",
   "pygments_lexer": "ipython3",
   "version": "3.8.6"
  },
  "orig_nbformat": 4,
  "vscode": {
   "interpreter": {
    "hash": "a4868653bb6f8972e87e4c446ab8a445a15b25dedb8594cc74c480f8152ea86a"
   }
  }
 },
 "nbformat": 4,
 "nbformat_minor": 2
}
