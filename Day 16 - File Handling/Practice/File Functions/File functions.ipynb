{
 "cells": [
  {
   "cell_type": "code",
   "execution_count": 1,
   "metadata": {},
   "outputs": [],
   "source": [
    "with open(\"Sample.txt\", 'w') as f:\n",
    "    f.write(\"Python is fun and easy to learn\")"
   ]
  },
  {
   "cell_type": "markdown",
   "metadata": {},
   "source": [
    "# Read, tell position and move file pointer using seek() & tell()"
   ]
  },
  {
   "cell_type": "code",
   "execution_count": 2,
   "metadata": {},
   "outputs": [
    {
     "name": "stdout",
     "output_type": "stream",
     "text": [
      "First 10 characters: Python is \n",
      "Current file pointer position: 10\n",
      "3 character after seek: fun\n"
     ]
    }
   ],
   "source": [
    "with open(\"Sample.txt\", 'r') as f:\n",
    "    file = f.read(10)\n",
    "    print(\"First 10 characters:\", file)\n",
    "\n",
    "    f.seek(10)\n",
    "\n",
    "    position = f.tell()\n",
    "    print(\"Current file pointer position:\", position)\n",
    "\n",
    "    file_again = f.read(3)\n",
    "    print(\"3 character after seek:\", file_again)"
   ]
  },
  {
   "cell_type": "markdown",
   "metadata": {},
   "source": [
    "# Truncate the file"
   ]
  },
  {
   "cell_type": "code",
   "execution_count": 3,
   "metadata": {},
   "outputs": [],
   "source": [
    "with open(\"Sample.txt\", 'a') as f:\n",
    "    f.truncate(20)"
   ]
  },
  {
   "cell_type": "code",
   "execution_count": null,
   "metadata": {},
   "outputs": [],
   "source": []
  }
 ],
 "metadata": {
  "kernelspec": {
   "display_name": "Python 3.8.6 64-bit",
   "language": "python",
   "name": "python3"
  },
  "language_info": {
   "codemirror_mode": {
    "name": "ipython",
    "version": 3
   },
   "file_extension": ".py",
   "mimetype": "text/x-python",
   "name": "python",
   "nbconvert_exporter": "python",
   "pygments_lexer": "ipython3",
   "version": "3.8.6"
  },
  "orig_nbformat": 4,
  "vscode": {
   "interpreter": {
    "hash": "a4868653bb6f8972e87e4c446ab8a445a15b25dedb8594cc74c480f8152ea86a"
   }
  }
 },
 "nbformat": 4,
 "nbformat_minor": 2
}
