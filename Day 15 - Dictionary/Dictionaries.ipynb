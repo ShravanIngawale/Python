{
 "cells": [
  {
   "cell_type": "code",
   "execution_count": 1,
   "metadata": {},
   "outputs": [
    {
     "name": "stdout",
     "output_type": "stream",
     "text": [
      "Showing courage, not afraid\n"
     ]
    }
   ],
   "source": [
    "dic = {\n",
    "    \"Brave\" : \"Showing courage, not afraid\",\n",
    "    \"Effort\" : \"Hard work\",\n",
    "    \"Calm\" : \"Peaceful\"\n",
    "}\n",
    "print(dic[\"Brave\"])"
   ]
  },
  {
   "cell_type": "code",
   "execution_count": 3,
   "metadata": {},
   "outputs": [
    {
     "name": "stdout",
     "output_type": "stream",
     "text": [
      "Emily Evans\n"
     ]
    }
   ],
   "source": [
    "employee = {\n",
    "    101 : \"Bruce Stark\",\n",
    "    102 : \"James Potter\",\n",
    "    103 : \"Emily Evans\",\n",
    "    104 : \"Victoria Taylor\"\n",
    "}\n",
    "print(employee[103])"
   ]
  },
  {
   "cell_type": "code",
   "execution_count": 2,
   "metadata": {},
   "outputs": [
    {
     "name": "stdout",
     "output_type": "stream",
     "text": [
      "{'ID': 101, 'Name': 'Victoria Taylor', 'Age': 23}\n"
     ]
    }
   ],
   "source": [
    "employee = {\"ID\" : 101 , \"Name\" : \"Victoria Taylor\", \"Age\" : 23}\n",
    "print(employee)"
   ]
  }
 ],
 "metadata": {
  "kernelspec": {
   "display_name": "Python 3.8.6 64-bit",
   "language": "python",
   "name": "python3"
  },
  "language_info": {
   "codemirror_mode": {
    "name": "ipython",
    "version": 3
   },
   "file_extension": ".py",
   "mimetype": "text/x-python",
   "name": "python",
   "nbconvert_exporter": "python",
   "pygments_lexer": "ipython3",
   "version": "3.8.6"
  },
  "orig_nbformat": 4,
  "vscode": {
   "interpreter": {
    "hash": "a4868653bb6f8972e87e4c446ab8a445a15b25dedb8594cc74c480f8152ea86a"
   }
  }
 },
 "nbformat": 4,
 "nbformat_minor": 2
}
