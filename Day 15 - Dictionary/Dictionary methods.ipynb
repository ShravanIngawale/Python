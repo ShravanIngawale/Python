{
 "cells": [
  {
   "cell_type": "markdown",
   "metadata": {},
   "source": [
    "# get"
   ]
  },
  {
   "cell_type": "code",
   "execution_count": 1,
   "metadata": {},
   "outputs": [
    {
     "name": "stdout",
     "output_type": "stream",
     "text": [
      "Victoria Taylor\n"
     ]
    }
   ],
   "source": [
    "employee = {\"ID\" : 101 , \"Name\" : \"Victoria Taylor\", \"Age\" : 23}\n",
    "print(employee.get(\"Name\"))"
   ]
  },
  {
   "cell_type": "code",
   "execution_count": 2,
   "metadata": {},
   "outputs": [
    {
     "ename": "KeyError",
     "evalue": "'Name1'",
     "output_type": "error",
     "traceback": [
      "\u001b[1;31m---------------------------------------------------------------------------\u001b[0m",
      "\u001b[1;31mKeyError\u001b[0m                                  Traceback (most recent call last)",
      "Cell \u001b[1;32mIn[2], line 2\u001b[0m\n\u001b[0;32m      1\u001b[0m employee \u001b[38;5;241m=\u001b[39m {\u001b[38;5;124m\"\u001b[39m\u001b[38;5;124mID\u001b[39m\u001b[38;5;124m\"\u001b[39m : \u001b[38;5;241m101\u001b[39m , \u001b[38;5;124m\"\u001b[39m\u001b[38;5;124mName\u001b[39m\u001b[38;5;124m\"\u001b[39m : \u001b[38;5;124m\"\u001b[39m\u001b[38;5;124mVictoria Taylor\u001b[39m\u001b[38;5;124m\"\u001b[39m, \u001b[38;5;124m\"\u001b[39m\u001b[38;5;124mAge\u001b[39m\u001b[38;5;124m\"\u001b[39m : \u001b[38;5;241m23\u001b[39m}\n\u001b[1;32m----> 2\u001b[0m \u001b[38;5;28mprint\u001b[39m(\u001b[43memployee\u001b[49m\u001b[43m[\u001b[49m\u001b[38;5;124;43m\"\u001b[39;49m\u001b[38;5;124;43mName1\u001b[39;49m\u001b[38;5;124;43m\"\u001b[39;49m\u001b[43m]\u001b[49m)\n",
      "\u001b[1;31mKeyError\u001b[0m: 'Name1'"
     ]
    }
   ],
   "source": [
    "employee = {\"ID\" : 101 , \"Name\" : \"Victoria Taylor\", \"Age\" : 23}\n",
    "print(employee[\"Name1\"])"
   ]
  },
  {
   "cell_type": "code",
   "execution_count": 3,
   "metadata": {},
   "outputs": [
    {
     "name": "stdout",
     "output_type": "stream",
     "text": [
      "None\n"
     ]
    }
   ],
   "source": [
    "employee = {\"ID\" : 101 , \"Name\" : \"Victoria Taylor\", \"Age\" : 23}\n",
    "print(employee.get(\"Name1\"))"
   ]
  },
  {
   "cell_type": "markdown",
   "metadata": {},
   "source": [
    "# keys"
   ]
  },
  {
   "cell_type": "code",
   "execution_count": 4,
   "metadata": {},
   "outputs": [
    {
     "name": "stdout",
     "output_type": "stream",
     "text": [
      "dict_keys(['ID', 'Name', 'Age'])\n"
     ]
    }
   ],
   "source": [
    "employee = {\"ID\" : 101 , \"Name\" : \"Victoria Taylor\", \"Age\" : 23}\n",
    "print(employee.keys())"
   ]
  },
  {
   "cell_type": "markdown",
   "metadata": {},
   "source": [
    "# values"
   ]
  },
  {
   "cell_type": "code",
   "execution_count": 5,
   "metadata": {},
   "outputs": [
    {
     "name": "stdout",
     "output_type": "stream",
     "text": [
      "dict_values([101, 'Victoria Taylor', 23])\n"
     ]
    }
   ],
   "source": [
    "employee = {\"ID\" : 101 , \"Name\" : \"Victoria Taylor\", \"Age\" : 23}\n",
    "print(employee.values())"
   ]
  },
  {
   "cell_type": "code",
   "execution_count": 7,
   "metadata": {},
   "outputs": [
    {
     "name": "stdout",
     "output_type": "stream",
     "text": [
      "101\n",
      "Victoria Taylor\n",
      "23\n"
     ]
    }
   ],
   "source": [
    "employee = {\"ID\" : 101 , \"Name\" : \"Victoria Taylor\", \"Age\" : 23}\n",
    "\n",
    "for key in employee.keys():\n",
    "    print(employee[key])"
   ]
  },
  {
   "cell_type": "markdown",
   "metadata": {},
   "source": [
    "# items"
   ]
  },
  {
   "cell_type": "code",
   "execution_count": 9,
   "metadata": {},
   "outputs": [
    {
     "name": "stdout",
     "output_type": "stream",
     "text": [
      "dict_items([('ID', 101), ('Name', 'Victoria Taylor'), ('Age', 23)])\n"
     ]
    }
   ],
   "source": [
    "employee = {\"ID\" : 101 , \"Name\" : \"Victoria Taylor\", \"Age\" : 23}\n",
    "print(employee.items())"
   ]
  },
  {
   "cell_type": "code",
   "execution_count": 1,
   "metadata": {},
   "outputs": [
    {
     "name": "stdout",
     "output_type": "stream",
     "text": [
      "ID: 101\n",
      "Name: Victoria Taylor\n",
      "Age: 23\n"
     ]
    }
   ],
   "source": [
    "employee = {\"ID\" : 101 , \"Name\" : \"Victoria Taylor\", \"Age\" : 23}\n",
    "\n",
    "for key, value in employee.items():\n",
    "    print(f\"{key}: {value}\")"
   ]
  },
  {
   "cell_type": "markdown",
   "metadata": {},
   "source": [
    "# update"
   ]
  },
  {
   "cell_type": "code",
   "execution_count": 2,
   "metadata": {},
   "outputs": [
    {
     "name": "stdout",
     "output_type": "stream",
     "text": [
      "{'ID': 101, 'Name': 'Victoria Taylor', 'Age': 25, 'Salary': 30000}\n"
     ]
    }
   ],
   "source": [
    "employee = {\"ID\": 101, \"Name\": \"Victoria Taylor\", \"Age\": 23}\n",
    "employee.update({\"Age\": 25, \"Salary\": 30000})\n",
    "print(employee)"
   ]
  },
  {
   "cell_type": "markdown",
   "metadata": {},
   "source": [
    "# clear"
   ]
  },
  {
   "cell_type": "code",
   "execution_count": 3,
   "metadata": {},
   "outputs": [
    {
     "name": "stdout",
     "output_type": "stream",
     "text": [
      "{}\n"
     ]
    }
   ],
   "source": [
    "employee = {\"ID\": 101, \"Name\": \"Victoria Taylor\", \"Age\": 23}\n",
    "employee.clear()\n",
    "print(employee)"
   ]
  },
  {
   "cell_type": "markdown",
   "metadata": {},
   "source": [
    "# pop"
   ]
  },
  {
   "cell_type": "code",
   "execution_count": 6,
   "metadata": {},
   "outputs": [
    {
     "name": "stdout",
     "output_type": "stream",
     "text": [
      "{'ID': 101, 'Name': 'Victoria Taylor', 'Salary': 30000}\n"
     ]
    }
   ],
   "source": [
    "employee = {\"ID\": 101, \"Name\": \"Victoria Taylor\", \"Age\": 23, \"Salary\": 30000}\n",
    "employee.pop(\"Age\")\n",
    "print(employee)"
   ]
  },
  {
   "cell_type": "markdown",
   "metadata": {},
   "source": [
    "# popitem"
   ]
  },
  {
   "cell_type": "code",
   "execution_count": 7,
   "metadata": {},
   "outputs": [
    {
     "name": "stdout",
     "output_type": "stream",
     "text": [
      "{'ID': 101, 'Name': 'Victoria Taylor', 'Age': 23}\n"
     ]
    }
   ],
   "source": [
    "employee = {\"ID\": 101, \"Name\": \"Victoria Taylor\", \"Age\": 23, \"Salary\": 30000}\n",
    "employee.popitem()\n",
    "print(employee)"
   ]
  },
  {
   "cell_type": "markdown",
   "metadata": {},
   "source": [
    "# copy"
   ]
  },
  {
   "cell_type": "code",
   "execution_count": 8,
   "metadata": {},
   "outputs": [
    {
     "name": "stdout",
     "output_type": "stream",
     "text": [
      "First employee: {'ID': 101, 'Name': 'Tom Taylor', 'Age': 23, 'Salary': 30000}\n",
      "Second employee: {'ID': 101, 'Name': 'Tom Taylor', 'Age': 23, 'Salary': 30000}\n"
     ]
    }
   ],
   "source": [
    "employee1 = {\"ID\": 101, \"Name\": \"Tom Taylor\", \"Age\": 23, \"Salary\": 30000}\n",
    "employee2 = employee1.copy()\n",
    "print(f\"First employee: {employee1}\")\n",
    "print(f\"Second employee: {employee2}\")"
   ]
  },
  {
   "cell_type": "markdown",
   "metadata": {},
   "source": [
    "# fromkeys"
   ]
  },
  {
   "cell_type": "code",
   "execution_count": 9,
   "metadata": {},
   "outputs": [
    {
     "name": "stdout",
     "output_type": "stream",
     "text": [
      "{'Peter': 50000, 'Tony': 50000, 'Tom': 50000, 'Victoria': 50000}\n",
      "{'Name': None, 'Age': None, 'Salary': None}\n"
     ]
    }
   ],
   "source": [
    "employee_name = [\"Peter\", \"Tony\", \"Tom\", \"Victoria\"]\n",
    "salary = 50000\n",
    "employee = dict.fromkeys(employee_name, salary)\n",
    "print(employee)\n",
    "\n",
    "employee_info = (\"Name\", \"Age\", \"Salary\")\n",
    "employee = dict.fromkeys(employee_info)\n",
    "print(employee)"
   ]
  },
  {
   "cell_type": "code",
   "execution_count": null,
   "metadata": {},
   "outputs": [],
   "source": []
  }
 ],
 "metadata": {
  "kernelspec": {
   "display_name": "Python 3.8.6 64-bit",
   "language": "python",
   "name": "python3"
  },
  "language_info": {
   "codemirror_mode": {
    "name": "ipython",
    "version": 3
   },
   "file_extension": ".py",
   "mimetype": "text/x-python",
   "name": "python",
   "nbconvert_exporter": "python",
   "pygments_lexer": "ipython3",
   "version": "3.8.6"
  },
  "orig_nbformat": 4,
  "vscode": {
   "interpreter": {
    "hash": "a4868653bb6f8972e87e4c446ab8a445a15b25dedb8594cc74c480f8152ea86a"
   }
  }
 },
 "nbformat": 4,
 "nbformat_minor": 2
}
