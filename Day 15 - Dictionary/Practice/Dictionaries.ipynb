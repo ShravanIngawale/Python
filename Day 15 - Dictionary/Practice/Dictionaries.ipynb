{
 "cells": [
  {
   "cell_type": "markdown",
   "metadata": {},
   "source": [
    "# 1. Access values using keys"
   ]
  },
  {
   "cell_type": "code",
   "execution_count": 2,
   "metadata": {},
   "outputs": [
    {
     "name": "stdout",
     "output_type": "stream",
     "text": [
      "Product ID: 5001\n",
      "Product Name: Laptop\n",
      "Price: 45000\n"
     ]
    }
   ],
   "source": [
    "product = {\n",
    "    \"ProductID\": 5001,\n",
    "    \"ProductName\": \"Laptop\",\n",
    "    \"Price\": 45000\n",
    "}\n",
    "\n",
    "product_id = product[\"ProductID\"]\n",
    "product_name = product[\"ProductName\"]\n",
    "price = product[\"Price\"]\n",
    "\n",
    "print(\"Product ID:\", product_id)\n",
    "print(\"Product Name:\", product_name)\n",
    "print(\"Price:\", price)"
   ]
  },
  {
   "cell_type": "markdown",
   "metadata": {},
   "source": [
    "# 2.Update Dictionary value"
   ]
  },
  {
   "cell_type": "code",
   "execution_count": 4,
   "metadata": {},
   "outputs": [
    {
     "name": "stdout",
     "output_type": "stream",
     "text": [
      "Student marks: {'RollNo': 23, 'Name': 'Priya Singh', 'Marks': 85}\n",
      "Updated student marks: {'RollNo': 23, 'Name': 'Priya Singh', 'Marks': 90}\n"
     ]
    }
   ],
   "source": [
    "student = {\n",
    "    \"RollNo\": 23,\n",
    "    \"Name\": \"Priya Singh\",\n",
    "    \"Marks\": 85\n",
    "}\n",
    "\n",
    "print(\"Student marks:\", student)\n",
    "\n",
    "student[\"Marks\"] = 90\n",
    "\n",
    "print(\"Updated student marks:\", student)"
   ]
  },
  {
   "cell_type": "markdown",
   "metadata": {},
   "source": [
    "# 3. Add new key value pair"
   ]
  },
  {
   "cell_type": "code",
   "execution_count": 5,
   "metadata": {},
   "outputs": [
    {
     "name": "stdout",
     "output_type": "stream",
     "text": [
      "Updated book dictionary: {'Title': 'Python Basics', 'Author': 'Rahul Sharma', 'Pages': 250}\n"
     ]
    }
   ],
   "source": [
    "book = {\n",
    "    \"Title\": \"Python Basics\",\n",
    "    \"Author\": \"Rahul Sharma\"\n",
    "}\n",
    "\n",
    "book[\"Pages\"] = 250\n",
    "\n",
    "print(\"Updated book dictionary:\", book)"
   ]
  },
  {
   "cell_type": "markdown",
   "metadata": {},
   "source": [
    "# 4. Print all keys and values manually"
   ]
  },
  {
   "cell_type": "code",
   "execution_count": 6,
   "metadata": {},
   "outputs": [
    {
     "name": "stdout",
     "output_type": "stream",
     "text": [
      "Brand : Toyota\n",
      "Model : Corolla\n",
      "Year : 2020\n"
     ]
    }
   ],
   "source": [
    "car = {\n",
    "    \"Brand\": \"Toyota\",\n",
    "    \"Model\": \"Corolla\",\n",
    "    \"Year\": 2020\n",
    "}\n",
    "\n",
    "for key in car:\n",
    "    print(f\"{key} : {car[key]}\")"
   ]
  },
  {
   "cell_type": "markdown",
   "metadata": {},
   "source": [
    "# 5. Swap keys and values manually"
   ]
  },
  {
   "cell_type": "code",
   "execution_count": 23,
   "metadata": {},
   "outputs": [
    {
     "name": "stdout",
     "output_type": "stream",
     "text": [
      "IN: India\n",
      "US: United States\n",
      "UK: United Kingdom\n"
     ]
    }
   ],
   "source": [
    "country_codes = {\n",
    "    \"India\": \"IN\",\n",
    "    \"United States\": \"US\",\n",
    "    \"United Kingdom\": \"UK\"\n",
    "}\n",
    "\n",
    "swapped_codes = {}\n",
    "\n",
    "for country in country_codes:\n",
    "    code = country_codes[country]\n",
    "    swapped_codes[code] = country\n",
    "\n",
    "for codes in swapped_codes:\n",
    "    print(f\"{codes}: {swapped_codes[codes]}\")"
   ]
  }
 ],
 "metadata": {
  "kernelspec": {
   "display_name": "Python 3.8.6 64-bit",
   "language": "python",
   "name": "python3"
  },
  "language_info": {
   "codemirror_mode": {
    "name": "ipython",
    "version": 3
   },
   "file_extension": ".py",
   "mimetype": "text/x-python",
   "name": "python",
   "nbconvert_exporter": "python",
   "pygments_lexer": "ipython3",
   "version": "3.8.6"
  },
  "orig_nbformat": 4,
  "vscode": {
   "interpreter": {
    "hash": "a4868653bb6f8972e87e4c446ab8a445a15b25dedb8594cc74c480f8152ea86a"
   }
  }
 },
 "nbformat": 4,
 "nbformat_minor": 2
}
